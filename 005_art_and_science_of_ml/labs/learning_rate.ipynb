{
 "cells": [
  {
   "cell_type": "markdown",
   "metadata": {
    "colab_type": "text",
    "id": "rNdWfPXCjTjY"
   },
   "source": [
    "# Reviewing Learning Curve\n",
    "\n",
    "### Learning objectives\n",
    "\n",
    "1. Build and train a Keras Sequential model\n",
    "2. Specify various learning rates to a model\n",
    "3. Visualize the loss curves\n",
    "\n",
    "\n",
    "## Introduction \n",
    "\n",
    "\n",
    "In this notebook, you will observe learning curve change. You will use the Keras Sequential Model to build an ML model to predict housing prices.\n",
    "\n",
    "A learning curve is a plot of model learning performance over experience or time.\n",
    "\n",
    "Learning curves are a widely used diagnostic tool in machine learning for algorithms that learn from a training dataset incrementally. The model can be evaluated on the training dataset and on a hold out validation dataset after each update during training and plots of the measured performance can created to show learning curves. Reviewing learning curves of models during training can be used to diagnose problems with learning, such as an underfit or overfit model, as well as whether the training and validation datasets are suitably representative.\n",
    "\n",
    "Adam is an optimization algorithm that can be used instead of the classical stochastic gradient descent procedure to update network weights iterative based in training data. [How to use Learning Curves to Diagnose Machine Learning Model Performance](https://machinelearningmastery.com/learning-curves-for-diagnosing-machine-learning-model-performance/#:~:text=A%20learning%20curve%20is%20a,from%20a%20training%20dataset%20incrementally.&text=Learning%20curves%20are%20plots%20that,time%20in%20terms%20of%20experience).\n",
    "\n",
    "Each learning objective will correspond to a __#TODO__  in this student lab notebook -- try to complete this notebook first and then review the [solution notebook](https://github.com/GoogleCloudPlatform/training-data-analyst/blob/master/courses/machine_learning/deepdive2/art_and_science_of_ml/solutions/learning_rate.ipynb)\n"
   ]
  },
  {
   "cell_type": "markdown",
   "metadata": {
    "colab_type": "text",
    "id": "VxyBFc_kKazA"
   },
   "source": [
    "Start by importing the necessary libraries for this lab."
   ]
  },
  {
   "cell_type": "code",
   "execution_count": 1,
   "metadata": {},
   "outputs": [],
   "source": [
    "!sudo chown -R jupyter:jupyter /home/jupyter/training-data-analyst"
   ]
  },
  {
   "cell_type": "code",
   "execution_count": 2,
   "metadata": {
    "collapsed": true,
    "jupyter": {
     "outputs_hidden": true
    }
   },
   "outputs": [
    {
     "name": "stdout",
     "output_type": "stream",
     "text": [
      "Collecting sklearn\n",
      "  Downloading sklearn-0.0.tar.gz (1.1 kB)\n",
      "Requirement already satisfied: scikit-learn in /opt/conda/lib/python3.7/site-packages (from sklearn) (0.24.2)\n",
      "Requirement already satisfied: numpy>=1.13.3 in /opt/conda/lib/python3.7/site-packages (from scikit-learn->sklearn) (1.19.5)\n",
      "Requirement already satisfied: scipy>=0.19.1 in /opt/conda/lib/python3.7/site-packages (from scikit-learn->sklearn) (1.7.0)\n",
      "Requirement already satisfied: threadpoolctl>=2.0.0 in /opt/conda/lib/python3.7/site-packages (from scikit-learn->sklearn) (2.2.0)\n",
      "Requirement already satisfied: joblib>=0.11 in /opt/conda/lib/python3.7/site-packages (from scikit-learn->sklearn) (1.0.1)\n",
      "Building wheels for collected packages: sklearn\n",
      "  Building wheel for sklearn (setup.py) ... \u001b[?25ldone\n",
      "\u001b[?25h  Created wheel for sklearn: filename=sklearn-0.0-py2.py3-none-any.whl size=1316 sha256=1c8e03b7447efde6601a20416ba8893c01cfd381b682d45447ff3954a7cfb87f\n",
      "  Stored in directory: /home/jupyter/.cache/pip/wheels/46/ef/c3/157e41f5ee1372d1be90b09f74f82b10e391eaacca8f22d33e\n",
      "Successfully built sklearn\n",
      "Installing collected packages: sklearn\n",
      "Successfully installed sklearn-0.0\n"
     ]
    }
   ],
   "source": [
    "# Install Sklearn\n",
    "!python3 -m pip install --user sklearn"
   ]
  },
  {
   "cell_type": "code",
   "execution_count": 4,
   "metadata": {
    "colab": {},
    "colab_type": "code",
    "id": "9dEreb4QKizj"
   },
   "outputs": [
    {
     "name": "stdout",
     "output_type": "stream",
     "text": [
      "TensorFlow version:  2.5.0\n"
     ]
    }
   ],
   "source": [
    "import os\n",
    "import tensorflow.keras\n",
    "\n",
    "import matplotlib.pyplot as plt\n",
    "import pandas as pd\n",
    "import tensorflow as tf\n",
    "\n",
    "from tensorflow import feature_column as fc\n",
    "from tensorflow.keras import layers\n",
    "from tensorflow import keras\n",
    "from tensorflow.keras import layers\n",
    "#from keras.optimizers import Adam\n",
    "#from keras.optimizers import SGD\n",
    "\n",
    "from sklearn.model_selection import train_test_split\n",
    "from keras.utils import plot_model\n",
    "\n",
    "print(\"TensorFlow version: \",tf.version.VERSION)"
   ]
  },
  {
   "cell_type": "markdown",
   "metadata": {},
   "source": [
    "Many of the Google Machine Learning Courses Programming Exercises use the  [California Housing Dataset](https://developers.google.com/machine-learning/crash-course/california-housing-data-description\n",
    "), which contains data drawn from the 1990 U.S. Census.  Our lab dataset has been pre-processed so that there are no missing values.\n",
    "\n",
    "First, let's download the raw .csv data by copying the data from a cloud storage bucket.\n"
   ]
  },
  {
   "cell_type": "code",
   "execution_count": 5,
   "metadata": {},
   "outputs": [],
   "source": [
    "if not os.path.isdir(\"../data\"):\n",
    "    os.makedirs(\"../data\")"
   ]
  },
  {
   "cell_type": "code",
   "execution_count": 6,
   "metadata": {},
   "outputs": [
    {
     "name": "stdout",
     "output_type": "stream",
     "text": [
      "Copying gs://cloud-training-demos/feat_eng/housing/housing_pre-proc.csv...\n",
      "/ [1 files][  1.4 MiB/  1.4 MiB]                                                \n",
      "Operation completed over 1 objects/1.4 MiB.                                      \n"
     ]
    }
   ],
   "source": [
    "!gsutil cp gs://cloud-training-demos/feat_eng/housing/housing_pre-proc.csv ../data"
   ]
  },
  {
   "cell_type": "markdown",
   "metadata": {
    "colab_type": "text",
    "id": "lM6-n6xntv3t"
   },
   "source": [
    "Now, let's read in the dataset just copied from the cloud storage bucket and create a Pandas dataframe."
   ]
  },
  {
   "cell_type": "code",
   "execution_count": 7,
   "metadata": {
    "colab": {
     "base_uri": "https://localhost:8080/",
     "height": 222
    },
    "colab_type": "code",
    "id": "REZ57BXCLdfG",
    "outputId": "a6ef2eda-c7eb-4e2d-92e4-e7fcaa20b0af"
   },
   "outputs": [
    {
     "name": "stderr",
     "output_type": "stream",
     "text": [
      "/opt/conda/lib/python3.7/site-packages/IPython/core/interactiveshell.py:3441: FutureWarning: The error_bad_lines argument has been deprecated and will be removed in a future version.\n",
      "\n",
      "\n",
      "  exec(code_obj, self.user_global_ns, self.user_ns)\n"
     ]
    },
    {
     "data": {
      "text/html": [
       "<div>\n",
       "<style scoped>\n",
       "    .dataframe tbody tr th:only-of-type {\n",
       "        vertical-align: middle;\n",
       "    }\n",
       "\n",
       "    .dataframe tbody tr th {\n",
       "        vertical-align: top;\n",
       "    }\n",
       "\n",
       "    .dataframe thead th {\n",
       "        text-align: right;\n",
       "    }\n",
       "</style>\n",
       "<table border=\"1\" class=\"dataframe\">\n",
       "  <thead>\n",
       "    <tr style=\"text-align: right;\">\n",
       "      <th></th>\n",
       "      <th>longitude</th>\n",
       "      <th>latitude</th>\n",
       "      <th>housing_median_age</th>\n",
       "      <th>total_rooms</th>\n",
       "      <th>total_bedrooms</th>\n",
       "      <th>population</th>\n",
       "      <th>households</th>\n",
       "      <th>median_income</th>\n",
       "      <th>median_house_value</th>\n",
       "      <th>ocean_proximity</th>\n",
       "    </tr>\n",
       "  </thead>\n",
       "  <tbody>\n",
       "    <tr>\n",
       "      <th>0</th>\n",
       "      <td>-122.23</td>\n",
       "      <td>37.88</td>\n",
       "      <td>41.0</td>\n",
       "      <td>880.0</td>\n",
       "      <td>129.0</td>\n",
       "      <td>322.0</td>\n",
       "      <td>126.0</td>\n",
       "      <td>8.3252</td>\n",
       "      <td>452600.0</td>\n",
       "      <td>NEAR BAY</td>\n",
       "    </tr>\n",
       "    <tr>\n",
       "      <th>1</th>\n",
       "      <td>-122.22</td>\n",
       "      <td>37.86</td>\n",
       "      <td>21.0</td>\n",
       "      <td>7099.0</td>\n",
       "      <td>1106.0</td>\n",
       "      <td>2401.0</td>\n",
       "      <td>1138.0</td>\n",
       "      <td>8.3014</td>\n",
       "      <td>358500.0</td>\n",
       "      <td>NEAR BAY</td>\n",
       "    </tr>\n",
       "    <tr>\n",
       "      <th>2</th>\n",
       "      <td>-122.24</td>\n",
       "      <td>37.85</td>\n",
       "      <td>52.0</td>\n",
       "      <td>1467.0</td>\n",
       "      <td>190.0</td>\n",
       "      <td>496.0</td>\n",
       "      <td>177.0</td>\n",
       "      <td>7.2574</td>\n",
       "      <td>352100.0</td>\n",
       "      <td>NEAR BAY</td>\n",
       "    </tr>\n",
       "    <tr>\n",
       "      <th>3</th>\n",
       "      <td>-122.25</td>\n",
       "      <td>37.85</td>\n",
       "      <td>52.0</td>\n",
       "      <td>1274.0</td>\n",
       "      <td>235.0</td>\n",
       "      <td>558.0</td>\n",
       "      <td>219.0</td>\n",
       "      <td>5.6431</td>\n",
       "      <td>341300.0</td>\n",
       "      <td>NEAR BAY</td>\n",
       "    </tr>\n",
       "    <tr>\n",
       "      <th>4</th>\n",
       "      <td>-122.25</td>\n",
       "      <td>37.85</td>\n",
       "      <td>52.0</td>\n",
       "      <td>1627.0</td>\n",
       "      <td>280.0</td>\n",
       "      <td>565.0</td>\n",
       "      <td>259.0</td>\n",
       "      <td>3.8462</td>\n",
       "      <td>342200.0</td>\n",
       "      <td>NEAR BAY</td>\n",
       "    </tr>\n",
       "  </tbody>\n",
       "</table>\n",
       "</div>"
      ],
      "text/plain": [
       "   longitude  latitude  housing_median_age  total_rooms  total_bedrooms  \\\n",
       "0    -122.23     37.88                41.0        880.0           129.0   \n",
       "1    -122.22     37.86                21.0       7099.0          1106.0   \n",
       "2    -122.24     37.85                52.0       1467.0           190.0   \n",
       "3    -122.25     37.85                52.0       1274.0           235.0   \n",
       "4    -122.25     37.85                52.0       1627.0           280.0   \n",
       "\n",
       "   population  households  median_income  median_house_value ocean_proximity  \n",
       "0       322.0       126.0         8.3252            452600.0        NEAR BAY  \n",
       "1      2401.0      1138.0         8.3014            358500.0        NEAR BAY  \n",
       "2       496.0       177.0         7.2574            352100.0        NEAR BAY  \n",
       "3       558.0       219.0         5.6431            341300.0        NEAR BAY  \n",
       "4       565.0       259.0         3.8462            342200.0        NEAR BAY  "
      ]
     },
     "execution_count": 7,
     "metadata": {},
     "output_type": "execute_result"
    }
   ],
   "source": [
    "housing_df = pd.read_csv('../data/housing_pre-proc.csv', error_bad_lines=False)\n",
    "housing_df.head()"
   ]
  },
  {
   "cell_type": "markdown",
   "metadata": {},
   "source": [
    "We can use .describe() to see some summary statistics for the numeric fields in our dataframe. Note, for example, the count row and corresponding columns. The count shows 20433.000000 for all feature columns. Thus, there are no missing values."
   ]
  },
  {
   "cell_type": "markdown",
   "metadata": {
    "colab_type": "text",
    "id": "u0zhLtQqMPem"
   },
   "source": [
    "####  Split the dataset for ML\n",
    "\n",
    "The dataset we loaded was a single CSV file. We will split this into train, validation, and test sets.\n"
   ]
  },
  {
   "cell_type": "code",
   "execution_count": 8,
   "metadata": {
    "colab": {
     "base_uri": "https://localhost:8080/",
     "height": 69
    },
    "colab_type": "code",
    "id": "YEOpw7LhMYsI",
    "outputId": "6161a660-7133-465a-d754-d7acae2b68c8"
   },
   "outputs": [
    {
     "name": "stdout",
     "output_type": "stream",
     "text": [
      "13076 train examples\n",
      "3270 validation examples\n",
      "4087 test examples\n"
     ]
    }
   ],
   "source": [
    "train, test = train_test_split(housing_df, test_size=0.2)\n",
    "train, val = train_test_split(train, test_size=0.2)\n",
    "\n",
    "print(len(train), 'train examples')\n",
    "print(len(val), 'validation examples')\n",
    "print(len(test), 'test examples')\n",
    "\n",
    "train.to_csv('../data/housing-train.csv', encoding='utf-8', index=False)\n",
    "val.to_csv('../data/housing-val.csv', encoding='utf-8', index=False)\n",
    "test.to_csv('../data/housing-test.csv', encoding='utf-8', index=False)"
   ]
  },
  {
   "cell_type": "code",
   "execution_count": 9,
   "metadata": {},
   "outputs": [],
   "source": [
    "# A utility method to create a tf.data dataset from a Pandas Dataframe\n",
    "\n",
    "def df_to_dataset(dataframe, shuffle=True, batch_size=32):\n",
    "    dataframe = dataframe.copy()\n",
    "    labels = dataframe.pop('median_house_value')\n",
    "    ds = tf.data.Dataset.from_tensor_slices((dict(dataframe), labels))\n",
    "    if shuffle:\n",
    "        ds = ds.shuffle(buffer_size=len(dataframe))\n",
    "    ds = ds.batch(batch_size)\n",
    "    return ds\n",
    "\n",
    "# Next we initialize the training and validation datasets.\n",
    "batch_size = 32\n",
    "train_ds = df_to_dataset(train)\n",
    "val_ds = df_to_dataset(val, shuffle=False, batch_size=batch_size)\n",
    "\n",
    "# Input Pipeline\n",
    "numeric_cols = ['longitude', 'latitude', 'housing_median_age', 'total_rooms',\n",
    "                'total_bedrooms', 'population', 'households', 'median_income']\n",
    "\n",
    "# Next, we scale the numerical feature columns that we assigned to the variable \"numeric cols\".\n",
    "# Scalar def get_scal(feature):\n",
    "def get_scal(feature):\n",
    "    def minmax(x):\n",
    "        mini = train[feature].min()\n",
    "        maxi = train[feature].max()\n",
    "        return (x - mini)/(maxi-mini)\n",
    "        return(minmax)\n",
    "    \n",
    "feature_columns = []\n",
    "for header in numeric_cols:\n",
    "    scal_input_fn = get_scal(header)\n",
    "    feature_columns.append(fc.numeric_column(header,\n",
    "                                             normalizer_fn=scal_input_fn))\n"
   ]
  },
  {
   "cell_type": "markdown",
   "metadata": {
    "colab_type": "text",
    "id": "9Ug3hB8Sl0jO"
   },
   "source": [
    "### Using the Keras Sequential Model\n",
    "\n",
    "Next, we will run this cell to compile and fit the Keras Sequential model."
   ]
  },
  {
   "cell_type": "markdown",
   "metadata": {},
   "source": [
    "**Lab Task #1:** Building the model"
   ]
  },
  {
   "cell_type": "markdown",
   "metadata": {},
   "source": [
    "## Model 1 - hard coding the learning rate to .5"
   ]
  },
  {
   "cell_type": "markdown",
   "metadata": {},
   "source": [
    "**Lab Task #2:** Specify various learning rates to model"
   ]
  },
  {
   "cell_type": "code",
   "execution_count": 11,
   "metadata": {},
   "outputs": [
    {
     "name": "stdout",
     "output_type": "stream",
     "text": [
      "Epoch 1/32\n",
      "WARNING:tensorflow:Layers in a Sequential model should only have a single input tensor, but we receive a <class 'dict'> input: {'longitude': <tf.Tensor 'ExpandDims_3:0' shape=(None, 1) dtype=float64>, 'latitude': <tf.Tensor 'ExpandDims_2:0' shape=(None, 1) dtype=float64>, 'housing_median_age': <tf.Tensor 'ExpandDims_1:0' shape=(None, 1) dtype=float64>, 'total_rooms': <tf.Tensor 'ExpandDims_8:0' shape=(None, 1) dtype=float64>, 'total_bedrooms': <tf.Tensor 'ExpandDims_7:0' shape=(None, 1) dtype=float64>, 'population': <tf.Tensor 'ExpandDims_6:0' shape=(None, 1) dtype=float64>, 'households': <tf.Tensor 'ExpandDims:0' shape=(None, 1) dtype=float64>, 'median_income': <tf.Tensor 'ExpandDims_4:0' shape=(None, 1) dtype=float64>, 'ocean_proximity': <tf.Tensor 'ExpandDims_5:0' shape=(None, 1) dtype=string>}\n",
      "Consider rewriting this model with the Functional API.\n",
      "WARNING:tensorflow:Layers in a Sequential model should only have a single input tensor, but we receive a <class 'dict'> input: {'longitude': <tf.Tensor 'ExpandDims_3:0' shape=(None, 1) dtype=float64>, 'latitude': <tf.Tensor 'ExpandDims_2:0' shape=(None, 1) dtype=float64>, 'housing_median_age': <tf.Tensor 'ExpandDims_1:0' shape=(None, 1) dtype=float64>, 'total_rooms': <tf.Tensor 'ExpandDims_8:0' shape=(None, 1) dtype=float64>, 'total_bedrooms': <tf.Tensor 'ExpandDims_7:0' shape=(None, 1) dtype=float64>, 'population': <tf.Tensor 'ExpandDims_6:0' shape=(None, 1) dtype=float64>, 'households': <tf.Tensor 'ExpandDims:0' shape=(None, 1) dtype=float64>, 'median_income': <tf.Tensor 'ExpandDims_4:0' shape=(None, 1) dtype=float64>, 'ocean_proximity': <tf.Tensor 'ExpandDims_5:0' shape=(None, 1) dtype=string>}\n",
      "Consider rewriting this model with the Functional API.\n",
      "408/409 [============================>.] - ETA: 0s - loss: 16026277888.0000 - mse: 16026277888.0000WARNING:tensorflow:Layers in a Sequential model should only have a single input tensor, but we receive a <class 'dict'> input: {'longitude': <tf.Tensor 'ExpandDims_3:0' shape=(None, 1) dtype=float64>, 'latitude': <tf.Tensor 'ExpandDims_2:0' shape=(None, 1) dtype=float64>, 'housing_median_age': <tf.Tensor 'ExpandDims_1:0' shape=(None, 1) dtype=float64>, 'total_rooms': <tf.Tensor 'ExpandDims_8:0' shape=(None, 1) dtype=float64>, 'total_bedrooms': <tf.Tensor 'ExpandDims_7:0' shape=(None, 1) dtype=float64>, 'population': <tf.Tensor 'ExpandDims_6:0' shape=(None, 1) dtype=float64>, 'households': <tf.Tensor 'ExpandDims:0' shape=(None, 1) dtype=float64>, 'median_income': <tf.Tensor 'ExpandDims_4:0' shape=(None, 1) dtype=float64>, 'ocean_proximity': <tf.Tensor 'ExpandDims_5:0' shape=(None, 1) dtype=string>}\n",
      "Consider rewriting this model with the Functional API.\n",
      "409/409 [==============================] - 4s 7ms/step - loss: 16011226112.0000 - mse: 16011226112.0000 - val_loss: 10702298112.0000 - val_mse: 10702298112.0000\n",
      "Epoch 2/32\n",
      "409/409 [==============================] - 2s 5ms/step - loss: 12096778240.0000 - mse: 12096778240.0000 - val_loss: 10014298112.0000 - val_mse: 10014298112.0000\n",
      "Epoch 3/32\n",
      "409/409 [==============================] - 2s 4ms/step - loss: 10735420416.0000 - mse: 10735420416.0000 - val_loss: 9208238080.0000 - val_mse: 9208238080.0000\n",
      "Epoch 4/32\n",
      "409/409 [==============================] - 3s 6ms/step - loss: 9508889600.0000 - mse: 9508889600.0000 - val_loss: 8095010816.0000 - val_mse: 8095010816.0000\n",
      "Epoch 5/32\n",
      "409/409 [==============================] - 3s 6ms/step - loss: 16787068928.0000 - mse: 16787068928.0000 - val_loss: 11882012672.0000 - val_mse: 11882012672.0000\n",
      "Epoch 6/32\n",
      "409/409 [==============================] - 2s 4ms/step - loss: 12258376704.0000 - mse: 12258376704.0000 - val_loss: 10554571776.0000 - val_mse: 10554571776.0000\n",
      "Epoch 7/32\n",
      "409/409 [==============================] - 2s 5ms/step - loss: 13790029824.0000 - mse: 13790029824.0000 - val_loss: 42680233984.0000 - val_mse: 42680233984.0000\n",
      "Epoch 8/32\n",
      "409/409 [==============================] - 2s 6ms/step - loss: 12375828480.0000 - mse: 12375828480.0000 - val_loss: 8671006720.0000 - val_mse: 8671006720.0000\n",
      "Epoch 9/32\n",
      "409/409 [==============================] - 2s 5ms/step - loss: 10876016640.0000 - mse: 10876016640.0000 - val_loss: 14163519488.0000 - val_mse: 14163519488.0000\n",
      "Epoch 10/32\n",
      "409/409 [==============================] - 2s 5ms/step - loss: 13495435264.0000 - mse: 13495435264.0000 - val_loss: 13911174144.0000 - val_mse: 13911174144.0000\n",
      "Epoch 11/32\n",
      "409/409 [==============================] - 2s 5ms/step - loss: 13413358592.0000 - mse: 13413358592.0000 - val_loss: 13974602752.0000 - val_mse: 13974602752.0000\n",
      "Epoch 12/32\n",
      "409/409 [==============================] - 3s 6ms/step - loss: 13434395648.0000 - mse: 13434395648.0000 - val_loss: 13959298048.0000 - val_mse: 13959298048.0000\n",
      "Epoch 13/32\n",
      "409/409 [==============================] - 2s 5ms/step - loss: 12688099328.0000 - mse: 12688099328.0000 - val_loss: 16359154688.0000 - val_mse: 16359154688.0000\n",
      "Epoch 14/32\n",
      "409/409 [==============================] - 2s 5ms/step - loss: 9124658176.0000 - mse: 9124658176.0000 - val_loss: 7973711360.0000 - val_mse: 7973711360.0000\n",
      "Epoch 15/32\n",
      "409/409 [==============================] - 2s 5ms/step - loss: 7744302080.0000 - mse: 7744302080.0000 - val_loss: 7652880384.0000 - val_mse: 7652880384.0000\n",
      "Epoch 16/32\n",
      "409/409 [==============================] - 2s 4ms/step - loss: 7209794560.0000 - mse: 7209794560.0000 - val_loss: 6559135744.0000 - val_mse: 6559135744.0000\n",
      "Epoch 17/32\n",
      "409/409 [==============================] - 2s 5ms/step - loss: 7205741056.0000 - mse: 7205741056.0000 - val_loss: 5993985536.0000 - val_mse: 5993985536.0000\n",
      "Epoch 18/32\n",
      "409/409 [==============================] - 2s 4ms/step - loss: 8838134784.0000 - mse: 8838134784.0000 - val_loss: 6014132224.0000 - val_mse: 6014132224.0000\n",
      "Epoch 19/32\n",
      "409/409 [==============================] - 2s 6ms/step - loss: 6473101824.0000 - mse: 6473101824.0000 - val_loss: 6538524160.0000 - val_mse: 6538524160.0000\n",
      "Epoch 20/32\n",
      "409/409 [==============================] - 2s 5ms/step - loss: 6768352256.0000 - mse: 6768352256.0000 - val_loss: 5965664256.0000 - val_mse: 5965664256.0000\n",
      "Epoch 21/32\n",
      "409/409 [==============================] - 3s 6ms/step - loss: 11975633920.0000 - mse: 11975633920.0000 - val_loss: 7385726976.0000 - val_mse: 7385726976.0000\n",
      "Epoch 22/32\n",
      "409/409 [==============================] - 3s 7ms/step - loss: 6740663296.0000 - mse: 6740663296.0000 - val_loss: 5948190720.0000 - val_mse: 5948190720.0000\n",
      "Epoch 23/32\n",
      "409/409 [==============================] - 2s 5ms/step - loss: 6701944832.0000 - mse: 6701944832.0000 - val_loss: 14235878400.0000 - val_mse: 14235878400.0000\n",
      "Epoch 24/32\n",
      "409/409 [==============================] - 2s 5ms/step - loss: 13437126656.0000 - mse: 13437126656.0000 - val_loss: 14089584640.0000 - val_mse: 14089584640.0000\n",
      "Epoch 25/32\n",
      "409/409 [==============================] - 3s 6ms/step - loss: 13513230336.0000 - mse: 13513230336.0000 - val_loss: 13991441408.0000 - val_mse: 13991441408.0000\n",
      "Epoch 26/32\n",
      "409/409 [==============================] - 2s 4ms/step - loss: 13483637760.0000 - mse: 13483637760.0000 - val_loss: 14102851584.0000 - val_mse: 14102851584.0000\n",
      "Epoch 27/32\n",
      "409/409 [==============================] - 2s 5ms/step - loss: 53496311808.0000 - mse: 53496311808.0000 - val_loss: 57261690880.0000 - val_mse: 57261690880.0000\n",
      "Epoch 28/32\n",
      "409/409 [==============================] - 3s 6ms/step - loss: 55753433088.0000 - mse: 55753433088.0000 - val_loss: 57133244416.0000 - val_mse: 57133244416.0000\n",
      "Epoch 29/32\n",
      "409/409 [==============================] - 2s 5ms/step - loss: 55638720512.0000 - mse: 55638720512.0000 - val_loss: 57026547712.0000 - val_mse: 57026547712.0000\n",
      "Epoch 30/32\n",
      "409/409 [==============================] - 3s 6ms/step - loss: 55538245632.0000 - mse: 55538245632.0000 - val_loss: 56929296384.0000 - val_mse: 56929296384.0000\n",
      "Epoch 31/32\n",
      "409/409 [==============================] - 2s 5ms/step - loss: 55444688896.0000 - mse: 55444688896.0000 - val_loss: 56837103616.0000 - val_mse: 56837103616.0000\n",
      "Epoch 32/32\n",
      "409/409 [==============================] - 2s 5ms/step - loss: 55355027456.0000 - mse: 55355027456.0000 - val_loss: 56747982848.0000 - val_mse: 56747982848.0000\n"
     ]
    }
   ],
   "source": [
    "# Model create\n",
    "\n",
    "feature_layer = tf.keras.layers.DenseFeatures(feature_columns, dtype = 'float64')\n",
    "\n",
    "model = tf.keras.Sequential([\n",
    "    feature_layer,\n",
    "    layers.Dense(12, input_dim = 8, activation = 'relu'),\n",
    "    layers.Dense(8, activation = 'relu'),\n",
    "    layers.Dense(1, activation = 'linear', name = 'median_house_value')\n",
    "])\n",
    "\n",
    "# Model compile\n",
    "opt = keras.optimizers.Adam(learning_rate = 0.5)\n",
    "model.compile(optimizer = opt,\n",
    "             loss = 'mse',\n",
    "             metrics = ['mse'])\n",
    "\n",
    "# Model Fit\n",
    "history = model.fit(train_ds,\n",
    "                    validation_data=val_ds,\n",
    "                    epochs=32)"
   ]
  },
  {
   "cell_type": "code",
   "execution_count": 12,
   "metadata": {},
   "outputs": [
    {
     "data": {
      "image/png": "[encoded data removed]",
      "text/plain": [
       "<Figure size 720x360 with 2 Axes>"
      ]
     },
     "metadata": {
      "needs_background": "light"
     },
     "output_type": "display_data"
    }
   ],
   "source": [
    "def plot_curves(history, metrics):\n",
    "    nrows = 1\n",
    "    ncols = 2\n",
    "    fig = plt.figure(figsize=(10, 5))\n",
    "\n",
    "    for idx, key in enumerate(metrics):  \n",
    "        ax = fig.add_subplot(nrows, ncols, idx+1)\n",
    "        plt.plot(history.history[key])\n",
    "        plt.plot(history.history['val_{}'.format(key)])\n",
    "        plt.title('model {}'.format(key))\n",
    "        plt.ylabel(key)\n",
    "        plt.xlabel('epoch')\n",
    "        plt.legend(['train', 'validation'], loc='upper left'); \n",
    "plot_curves(history, ['loss', 'mse'])"
   ]
  },
  {
   "cell_type": "markdown",
   "metadata": {},
   "source": [
    "## Model 2 - hard coding the learning rate to .1"
   ]
  },
  {
   "cell_type": "code",
   "execution_count": 13,
   "metadata": {},
   "outputs": [
    {
     "name": "stdout",
     "output_type": "stream",
     "text": [
      "Epoch 1/32\n",
      "WARNING:tensorflow:Layers in a Sequential model should only have a single input tensor, but we receive a <class 'dict'> input: {'longitude': <tf.Tensor 'ExpandDims_3:0' shape=(None, 1) dtype=float64>, 'latitude': <tf.Tensor 'ExpandDims_2:0' shape=(None, 1) dtype=float64>, 'housing_median_age': <tf.Tensor 'ExpandDims_1:0' shape=(None, 1) dtype=float64>, 'total_rooms': <tf.Tensor 'ExpandDims_8:0' shape=(None, 1) dtype=float64>, 'total_bedrooms': <tf.Tensor 'ExpandDims_7:0' shape=(None, 1) dtype=float64>, 'population': <tf.Tensor 'ExpandDims_6:0' shape=(None, 1) dtype=float64>, 'households': <tf.Tensor 'ExpandDims:0' shape=(None, 1) dtype=float64>, 'median_income': <tf.Tensor 'ExpandDims_4:0' shape=(None, 1) dtype=float64>, 'ocean_proximity': <tf.Tensor 'ExpandDims_5:0' shape=(None, 1) dtype=string>}\n",
      "Consider rewriting this model with the Functional API.\n",
      "WARNING:tensorflow:Layers in a Sequential model should only have a single input tensor, but we receive a <class 'dict'> input: {'longitude': <tf.Tensor 'ExpandDims_3:0' shape=(None, 1) dtype=float64>, 'latitude': <tf.Tensor 'ExpandDims_2:0' shape=(None, 1) dtype=float64>, 'housing_median_age': <tf.Tensor 'ExpandDims_1:0' shape=(None, 1) dtype=float64>, 'total_rooms': <tf.Tensor 'ExpandDims_8:0' shape=(None, 1) dtype=float64>, 'total_bedrooms': <tf.Tensor 'ExpandDims_7:0' shape=(None, 1) dtype=float64>, 'population': <tf.Tensor 'ExpandDims_6:0' shape=(None, 1) dtype=float64>, 'households': <tf.Tensor 'ExpandDims:0' shape=(None, 1) dtype=float64>, 'median_income': <tf.Tensor 'ExpandDims_4:0' shape=(None, 1) dtype=float64>, 'ocean_proximity': <tf.Tensor 'ExpandDims_5:0' shape=(None, 1) dtype=string>}\n",
      "Consider rewriting this model with the Functional API.\n",
      "403/409 [============================>.] - ETA: 0s - loss: 16881413120.0000 - mse: 16881413120.0000WARNING:tensorflow:Layers in a Sequential model should only have a single input tensor, but we receive a <class 'dict'> input: {'longitude': <tf.Tensor 'ExpandDims_3:0' shape=(None, 1) dtype=float64>, 'latitude': <tf.Tensor 'ExpandDims_2:0' shape=(None, 1) dtype=float64>, 'housing_median_age': <tf.Tensor 'ExpandDims_1:0' shape=(None, 1) dtype=float64>, 'total_rooms': <tf.Tensor 'ExpandDims_8:0' shape=(None, 1) dtype=float64>, 'total_bedrooms': <tf.Tensor 'ExpandDims_7:0' shape=(None, 1) dtype=float64>, 'population': <tf.Tensor 'ExpandDims_6:0' shape=(None, 1) dtype=float64>, 'households': <tf.Tensor 'ExpandDims:0' shape=(None, 1) dtype=float64>, 'median_income': <tf.Tensor 'ExpandDims_4:0' shape=(None, 1) dtype=float64>, 'ocean_proximity': <tf.Tensor 'ExpandDims_5:0' shape=(None, 1) dtype=string>}\n",
      "Consider rewriting this model with the Functional API.\n",
      "409/409 [==============================] - 2s 5ms/step - loss: 16815406080.0000 - mse: 16815406080.0000 - val_loss: 13677605888.0000 - val_mse: 13677605888.0000\n",
      "Epoch 2/32\n",
      "409/409 [==============================] - 2s 4ms/step - loss: 10412821504.0000 - mse: 10412821504.0000 - val_loss: 9576226816.0000 - val_mse: 9576226816.0000\n",
      "Epoch 3/32\n",
      "409/409 [==============================] - 2s 5ms/step - loss: 9318269952.0000 - mse: 9318269952.0000 - val_loss: 8566358528.0000 - val_mse: 8566358528.0000\n",
      "Epoch 4/32\n",
      "409/409 [==============================] - 2s 5ms/step - loss: 8943801344.0000 - mse: 8943801344.0000 - val_loss: 7882972672.0000 - val_mse: 7882972672.0000\n",
      "Epoch 5/32\n",
      "409/409 [==============================] - 2s 5ms/step - loss: 7879872000.0000 - mse: 7879872000.0000 - val_loss: 7277891584.0000 - val_mse: 7277891584.0000\n",
      "Epoch 6/32\n",
      "409/409 [==============================] - 2s 5ms/step - loss: 7837817856.0000 - mse: 7837817856.0000 - val_loss: 7178088448.0000 - val_mse: 7178088448.0000\n",
      "Epoch 7/32\n",
      "409/409 [==============================] - 2s 4ms/step - loss: 7139829248.0000 - mse: 7139829248.0000 - val_loss: 6878198272.0000 - val_mse: 6878198272.0000\n",
      "Epoch 8/32\n",
      "409/409 [==============================] - 2s 5ms/step - loss: 6961264128.0000 - mse: 6961264128.0000 - val_loss: 6359791616.0000 - val_mse: 6359791616.0000\n",
      "Epoch 9/32\n",
      "409/409 [==============================] - 2s 4ms/step - loss: 7162389504.0000 - mse: 7162389504.0000 - val_loss: 6464353792.0000 - val_mse: 6464353792.0000\n",
      "Epoch 10/32\n",
      "409/409 [==============================] - 2s 5ms/step - loss: 7009795584.0000 - mse: 7009795584.0000 - val_loss: 5957840896.0000 - val_mse: 5957840896.0000\n",
      "Epoch 11/32\n",
      "409/409 [==============================] - 3s 6ms/step - loss: 6525470208.0000 - mse: 6525470208.0000 - val_loss: 5735682560.0000 - val_mse: 5735682560.0000\n",
      "Epoch 12/32\n",
      "409/409 [==============================] - 2s 5ms/step - loss: 6615548928.0000 - mse: 6615548928.0000 - val_loss: 6003043328.0000 - val_mse: 6003043328.0000\n",
      "Epoch 13/32\n",
      "409/409 [==============================] - 2s 5ms/step - loss: 6714117120.0000 - mse: 6714117120.0000 - val_loss: 5581700096.0000 - val_mse: 5581700096.0000\n",
      "Epoch 14/32\n",
      "409/409 [==============================] - 2s 5ms/step - loss: 6452290560.0000 - mse: 6452290560.0000 - val_loss: 5586834944.0000 - val_mse: 5586834944.0000\n",
      "Epoch 15/32\n",
      "409/409 [==============================] - 2s 4ms/step - loss: 6373797376.0000 - mse: 6373797376.0000 - val_loss: 5673382912.0000 - val_mse: 5673382912.0000\n",
      "Epoch 16/32\n",
      "409/409 [==============================] - 3s 6ms/step - loss: 6354312704.0000 - mse: 6354312704.0000 - val_loss: 5800553984.0000 - val_mse: 5800553984.0000\n",
      "Epoch 17/32\n",
      "409/409 [==============================] - 3s 6ms/step - loss: 6006554624.0000 - mse: 6006554624.0000 - val_loss: 6355972096.0000 - val_mse: 6355972096.0000\n",
      "Epoch 18/32\n",
      "409/409 [==============================] - 2s 5ms/step - loss: 6378745344.0000 - mse: 6378745344.0000 - val_loss: 5512711680.0000 - val_mse: 5512711680.0000\n",
      "Epoch 19/32\n",
      "409/409 [==============================] - 2s 5ms/step - loss: 6062761984.0000 - mse: 6062761984.0000 - val_loss: 5773672448.0000 - val_mse: 5773672448.0000\n",
      "Epoch 20/32\n",
      "409/409 [==============================] - 2s 4ms/step - loss: 6666286080.0000 - mse: 6666286080.0000 - val_loss: 6408007168.0000 - val_mse: 6408007168.0000\n",
      "Epoch 21/32\n",
      "409/409 [==============================] - 2s 4ms/step - loss: 6388419072.0000 - mse: 6388419072.0000 - val_loss: 7141812224.0000 - val_mse: 7141812224.0000\n",
      "Epoch 22/32\n",
      "409/409 [==============================] - 3s 6ms/step - loss: 6127042048.0000 - mse: 6127042048.0000 - val_loss: 5303566336.0000 - val_mse: 5303566336.0000\n",
      "Epoch 23/32\n",
      "409/409 [==============================] - 2s 5ms/step - loss: 6437425152.0000 - mse: 6437425152.0000 - val_loss: 6583776768.0000 - val_mse: 6583776768.0000\n",
      "Epoch 24/32\n",
      "409/409 [==============================] - 2s 5ms/step - loss: 6740142080.0000 - mse: 6740142080.0000 - val_loss: 6243040768.0000 - val_mse: 6243040768.0000\n",
      "Epoch 25/32\n",
      "409/409 [==============================] - 2s 5ms/step - loss: 6584574464.0000 - mse: 6584574464.0000 - val_loss: 5457305600.0000 - val_mse: 5457305600.0000\n",
      "Epoch 26/32\n",
      "409/409 [==============================] - 2s 5ms/step - loss: 6080328704.0000 - mse: 6080328704.0000 - val_loss: 5212401664.0000 - val_mse: 5212401664.0000\n",
      "Epoch 27/32\n",
      "409/409 [==============================] - 2s 4ms/step - loss: 5986519040.0000 - mse: 5986519040.0000 - val_loss: 5290523648.0000 - val_mse: 5290523648.0000\n",
      "Epoch 28/32\n",
      "409/409 [==============================] - 2s 5ms/step - loss: 5998726144.0000 - mse: 5998726144.0000 - val_loss: 5484533248.0000 - val_mse: 5484533248.0000\n",
      "Epoch 29/32\n",
      "409/409 [==============================] - 3s 6ms/step - loss: 5769064448.0000 - mse: 5769064448.0000 - val_loss: 5257854976.0000 - val_mse: 5257854976.0000\n",
      "Epoch 30/32\n",
      "409/409 [==============================] - 3s 6ms/step - loss: 5737437696.0000 - mse: 5737437696.0000 - val_loss: 6439617024.0000 - val_mse: 6439617024.0000\n",
      "Epoch 31/32\n",
      "409/409 [==============================] - 2s 4ms/step - loss: 5741629440.0000 - mse: 5741629440.0000 - val_loss: 5464292352.0000 - val_mse: 5464292352.0000\n",
      "Epoch 32/32\n",
      "409/409 [==============================] - 2s 6ms/step - loss: 5698140160.0000 - mse: 5698140160.0000 - val_loss: 5686995456.0000 - val_mse: 5686995456.0000\n"
     ]
    }
   ],
   "source": [
    "# Model create\n",
    "feature_layer = tf.keras.layers.DenseFeatures(feature_columns, dtype='float64')\n",
    "\n",
    "model = tf.keras.Sequential([\n",
    "  feature_layer,\n",
    "  layers.Dense(12, input_dim=8, activation='relu'),\n",
    "  layers.Dense(8, activation='relu'),\n",
    "  layers.Dense(1, activation='linear',  name='median_house_value')\n",
    "])\n",
    "\n",
    "# Model compile\n",
    "model.compile(optimizer = keras.optimizers.Adam(learning_rate = 0.1),\n",
    "             loss = 'mse',\n",
    "             metrics = ['mse'])\n",
    "\n",
    "# Model Fit\n",
    "history = model.fit(train_ds,\n",
    "                    validation_data=val_ds,\n",
    "                    epochs=32)"
   ]
  },
  {
   "cell_type": "code",
   "execution_count": 14,
   "metadata": {},
   "outputs": [
    {
     "data": {
      "image/png": "[encoded data removed]",
      "text/plain": [
       "<Figure size 720x360 with 2 Axes>"
      ]
     },
     "metadata": {
      "needs_background": "light"
     },
     "output_type": "display_data"
    }
   ],
   "source": [
    "def plot_curves(history, metrics):\n",
    "    nrows = 1\n",
    "    ncols = 2\n",
    "    fig = plt.figure(figsize=(10, 5))\n",
    "\n",
    "    for idx, key in enumerate(metrics):  \n",
    "        ax = fig.add_subplot(nrows, ncols, idx+1)\n",
    "        plt.plot(history.history[key])\n",
    "        plt.plot(history.history['val_{}'.format(key)])\n",
    "        plt.title('model {}'.format(key))\n",
    "        plt.ylabel(key)\n",
    "        plt.xlabel('epoch')\n",
    "        plt.legend(['train', 'validation'], loc='upper left');  \n",
    "plot_curves(history, ['loss', 'mse'])"
   ]
  },
  {
   "cell_type": "markdown",
   "metadata": {},
   "source": [
    "## Model 3 - hard coding the learning rate to .01 "
   ]
  },
  {
   "cell_type": "code",
   "execution_count": 15,
   "metadata": {},
   "outputs": [
    {
     "name": "stdout",
     "output_type": "stream",
     "text": [
      "Epoch 1/32\n",
      "WARNING:tensorflow:Layers in a Sequential model should only have a single input tensor, but we receive a <class 'dict'> input: {'longitude': <tf.Tensor 'ExpandDims_3:0' shape=(None, 1) dtype=float64>, 'latitude': <tf.Tensor 'ExpandDims_2:0' shape=(None, 1) dtype=float64>, 'housing_median_age': <tf.Tensor 'ExpandDims_1:0' shape=(None, 1) dtype=float64>, 'total_rooms': <tf.Tensor 'ExpandDims_8:0' shape=(None, 1) dtype=float64>, 'total_bedrooms': <tf.Tensor 'ExpandDims_7:0' shape=(None, 1) dtype=float64>, 'population': <tf.Tensor 'ExpandDims_6:0' shape=(None, 1) dtype=float64>, 'households': <tf.Tensor 'ExpandDims:0' shape=(None, 1) dtype=float64>, 'median_income': <tf.Tensor 'ExpandDims_4:0' shape=(None, 1) dtype=float64>, 'ocean_proximity': <tf.Tensor 'ExpandDims_5:0' shape=(None, 1) dtype=string>}\n",
      "Consider rewriting this model with the Functional API.\n",
      "WARNING:tensorflow:Layers in a Sequential model should only have a single input tensor, but we receive a <class 'dict'> input: {'longitude': <tf.Tensor 'ExpandDims_3:0' shape=(None, 1) dtype=float64>, 'latitude': <tf.Tensor 'ExpandDims_2:0' shape=(None, 1) dtype=float64>, 'housing_median_age': <tf.Tensor 'ExpandDims_1:0' shape=(None, 1) dtype=float64>, 'total_rooms': <tf.Tensor 'ExpandDims_8:0' shape=(None, 1) dtype=float64>, 'total_bedrooms': <tf.Tensor 'ExpandDims_7:0' shape=(None, 1) dtype=float64>, 'population': <tf.Tensor 'ExpandDims_6:0' shape=(None, 1) dtype=float64>, 'households': <tf.Tensor 'ExpandDims:0' shape=(None, 1) dtype=float64>, 'median_income': <tf.Tensor 'ExpandDims_4:0' shape=(None, 1) dtype=float64>, 'ocean_proximity': <tf.Tensor 'ExpandDims_5:0' shape=(None, 1) dtype=string>}\n",
      "Consider rewriting this model with the Functional API.\n",
      "392/409 [===========================>..] - ETA: 0s - loss: 29027852288.0000 - mse: 29027852288.0000WARNING:tensorflow:Layers in a Sequential model should only have a single input tensor, but we receive a <class 'dict'> input: {'longitude': <tf.Tensor 'ExpandDims_3:0' shape=(None, 1) dtype=float64>, 'latitude': <tf.Tensor 'ExpandDims_2:0' shape=(None, 1) dtype=float64>, 'housing_median_age': <tf.Tensor 'ExpandDims_1:0' shape=(None, 1) dtype=float64>, 'total_rooms': <tf.Tensor 'ExpandDims_8:0' shape=(None, 1) dtype=float64>, 'total_bedrooms': <tf.Tensor 'ExpandDims_7:0' shape=(None, 1) dtype=float64>, 'population': <tf.Tensor 'ExpandDims_6:0' shape=(None, 1) dtype=float64>, 'households': <tf.Tensor 'ExpandDims:0' shape=(None, 1) dtype=float64>, 'median_income': <tf.Tensor 'ExpandDims_4:0' shape=(None, 1) dtype=float64>, 'ocean_proximity': <tf.Tensor 'ExpandDims_5:0' shape=(None, 1) dtype=string>}\n",
      "Consider rewriting this model with the Functional API.\n",
      "409/409 [==============================] - 3s 5ms/step - loss: 28806014976.0000 - mse: 28806014976.0000 - val_loss: 22684573696.0000 - val_mse: 22684573696.0000\n",
      "Epoch 2/32\n",
      "409/409 [==============================] - 2s 5ms/step - loss: 16603645952.0000 - mse: 16603645952.0000 - val_loss: 12248211456.0000 - val_mse: 12248211456.0000\n",
      "Epoch 3/32\n",
      "409/409 [==============================] - 2s 4ms/step - loss: 11262329856.0000 - mse: 11262329856.0000 - val_loss: 11494216704.0000 - val_mse: 11494216704.0000\n",
      "Epoch 4/32\n",
      "409/409 [==============================] - 3s 6ms/step - loss: 10955959296.0000 - mse: 10955959296.0000 - val_loss: 11375019008.0000 - val_mse: 11375019008.0000\n",
      "Epoch 5/32\n",
      "409/409 [==============================] - 2s 4ms/step - loss: 10644122624.0000 - mse: 10644122624.0000 - val_loss: 10781989888.0000 - val_mse: 10781989888.0000\n",
      "Epoch 6/32\n",
      "409/409 [==============================] - 2s 5ms/step - loss: 10319971328.0000 - mse: 10319971328.0000 - val_loss: 10430543872.0000 - val_mse: 10430543872.0000\n",
      "Epoch 7/32\n",
      "409/409 [==============================] - 3s 6ms/step - loss: 9985891328.0000 - mse: 9985891328.0000 - val_loss: 10176745472.0000 - val_mse: 10176745472.0000\n",
      "Epoch 8/32\n",
      "409/409 [==============================] - 2s 5ms/step - loss: 9634679808.0000 - mse: 9634679808.0000 - val_loss: 9792622592.0000 - val_mse: 9792622592.0000\n",
      "Epoch 9/32\n",
      "409/409 [==============================] - 3s 6ms/step - loss: 9340201984.0000 - mse: 9340201984.0000 - val_loss: 9506571264.0000 - val_mse: 9506571264.0000\n",
      "Epoch 10/32\n",
      "409/409 [==============================] - 2s 5ms/step - loss: 8845662208.0000 - mse: 8845662208.0000 - val_loss: 8640574464.0000 - val_mse: 8640574464.0000\n",
      "Epoch 11/32\n",
      "409/409 [==============================] - 2s 5ms/step - loss: 8399236608.0000 - mse: 8399236608.0000 - val_loss: 8058412544.0000 - val_mse: 8058412544.0000\n",
      "Epoch 12/32\n",
      "409/409 [==============================] - 2s 5ms/step - loss: 7890295296.0000 - mse: 7890295296.0000 - val_loss: 7830258176.0000 - val_mse: 7830258176.0000\n",
      "Epoch 13/32\n",
      "409/409 [==============================] - 2s 6ms/step - loss: 7489781248.0000 - mse: 7489781248.0000 - val_loss: 7449857536.0000 - val_mse: 7449857536.0000\n",
      "Epoch 14/32\n",
      "409/409 [==============================] - 2s 5ms/step - loss: 7311504384.0000 - mse: 7311504384.0000 - val_loss: 7433967616.0000 - val_mse: 7433967616.0000\n",
      "Epoch 15/32\n",
      "409/409 [==============================] - 2s 5ms/step - loss: 7064159232.0000 - mse: 7064159232.0000 - val_loss: 7151729664.0000 - val_mse: 7151729664.0000\n",
      "Epoch 16/32\n",
      "409/409 [==============================] - 2s 4ms/step - loss: 6828152832.0000 - mse: 6828152832.0000 - val_loss: 6537271808.0000 - val_mse: 6537271808.0000\n",
      "Epoch 17/32\n",
      "409/409 [==============================] - 2s 5ms/step - loss: 6641278976.0000 - mse: 6641278976.0000 - val_loss: 7059981312.0000 - val_mse: 7059981312.0000\n",
      "Epoch 18/32\n",
      "409/409 [==============================] - 2s 6ms/step - loss: 6484305408.0000 - mse: 6484305408.0000 - val_loss: 6293811200.0000 - val_mse: 6293811200.0000\n",
      "Epoch 19/32\n",
      "409/409 [==============================] - 2s 5ms/step - loss: 6352865792.0000 - mse: 6352865792.0000 - val_loss: 6059062784.0000 - val_mse: 6059062784.0000\n",
      "Epoch 20/32\n",
      "409/409 [==============================] - 2s 5ms/step - loss: 6159414784.0000 - mse: 6159414784.0000 - val_loss: 5781061632.0000 - val_mse: 5781061632.0000\n",
      "Epoch 21/32\n",
      "409/409 [==============================] - 2s 5ms/step - loss: 6039424512.0000 - mse: 6039424512.0000 - val_loss: 5691499520.0000 - val_mse: 5691499520.0000\n",
      "Epoch 22/32\n",
      "409/409 [==============================] - 2s 5ms/step - loss: 5916653568.0000 - mse: 5916653568.0000 - val_loss: 5559814144.0000 - val_mse: 5559814144.0000\n",
      "Epoch 23/32\n",
      "409/409 [==============================] - 2s 5ms/step - loss: 5754493952.0000 - mse: 5754493952.0000 - val_loss: 5303587840.0000 - val_mse: 5303587840.0000\n",
      "Epoch 24/32\n",
      "409/409 [==============================] - 2s 6ms/step - loss: 5647896064.0000 - mse: 5647896064.0000 - val_loss: 5653961728.0000 - val_mse: 5653961728.0000\n",
      "Epoch 25/32\n",
      "409/409 [==============================] - 3s 8ms/step - loss: 5480504320.0000 - mse: 5480504320.0000 - val_loss: 5080294400.0000 - val_mse: 5080294400.0000\n",
      "Epoch 26/32\n",
      "409/409 [==============================] - 2s 6ms/step - loss: 5542379008.0000 - mse: 5542379008.0000 - val_loss: 5374182912.0000 - val_mse: 5374182912.0000\n",
      "Epoch 27/32\n",
      "409/409 [==============================] - 2s 4ms/step - loss: 5390195712.0000 - mse: 5390195712.0000 - val_loss: 5214057472.0000 - val_mse: 5214057472.0000\n",
      "Epoch 28/32\n",
      "409/409 [==============================] - 2s 5ms/step - loss: 5314996224.0000 - mse: 5314996224.0000 - val_loss: 4967391232.0000 - val_mse: 4967391232.0000\n",
      "Epoch 29/32\n",
      "409/409 [==============================] - 3s 6ms/step - loss: 5204097024.0000 - mse: 5204097024.0000 - val_loss: 6149542400.0000 - val_mse: 6149542400.0000\n",
      "Epoch 30/32\n",
      "409/409 [==============================] - 3s 6ms/step - loss: 5124461568.0000 - mse: 5124461568.0000 - val_loss: 4889826816.0000 - val_mse: 4889826816.0000\n",
      "Epoch 31/32\n",
      "409/409 [==============================] - 2s 4ms/step - loss: 5076767744.0000 - mse: 5076767744.0000 - val_loss: 4771501568.0000 - val_mse: 4771501568.0000\n",
      "Epoch 32/32\n",
      "409/409 [==============================] - 2s 5ms/step - loss: 5104822784.0000 - mse: 5104822784.0000 - val_loss: 4661918720.0000 - val_mse: 4661918720.0000\n"
     ]
    }
   ],
   "source": [
    "# Model create\n",
    "\n",
    "feature_layer = tf.keras.layers.DenseFeatures(feature_columns, dtype='float64')\n",
    "\n",
    "model = tf.keras.Sequential([\n",
    "  feature_layer,\n",
    "  layers.Dense(12, input_dim=8, activation='relu'),\n",
    "  layers.Dense(8, activation='relu'),\n",
    "  layers.Dense(1, activation='linear',  name='median_house_value')\n",
    "])\n",
    "\n",
    "# Model compile\n",
    "model.compile(optimizer = keras.optimizers.Adam(learning_rate = 0.01),\n",
    "             loss = 'mse',\n",
    "             metrics = ['mse'])\n",
    "\n",
    "# Model Fit\n",
    "history = model.fit(train_ds,\n",
    "                    validation_data=val_ds,\n",
    "                    epochs=32)  # Increase Epochs to 32"
   ]
  },
  {
   "cell_type": "code",
   "execution_count": 16,
   "metadata": {},
   "outputs": [
    {
     "data": {
      "image/png": "[encoded data removed]",
      "text/plain": [
       "<Figure size 720x360 with 2 Axes>"
      ]
     },
     "metadata": {
      "needs_background": "light"
     },
     "output_type": "display_data"
    }
   ],
   "source": [
    "def plot_curves(history, metrics):\n",
    "    nrows = 1\n",
    "    ncols = 2\n",
    "    fig = plt.figure(figsize=(10, 5))\n",
    "\n",
    "    for idx, key in enumerate(metrics):  \n",
    "        ax = fig.add_subplot(nrows, ncols, idx+1)\n",
    "        plt.plot(history.history[key])\n",
    "        plt.plot(history.history['val_{}'.format(key)])\n",
    "        plt.title('model {}'.format(key))\n",
    "        plt.ylabel(key)\n",
    "        plt.xlabel('epoch')\n",
    "        plt.legend(['train', 'validation'], loc='upper left');  \n",
    "plot_curves(history, ['loss', 'mse'])"
   ]
  },
  {
   "cell_type": "markdown",
   "metadata": {},
   "source": [
    "## Model 4 - hard coding the learning rate to .001 "
   ]
  },
  {
   "cell_type": "code",
   "execution_count": 17,
   "metadata": {},
   "outputs": [
    {
     "name": "stdout",
     "output_type": "stream",
     "text": [
      "Epoch 1/32\n",
      "WARNING:tensorflow:Layers in a Sequential model should only have a single input tensor, but we receive a <class 'dict'> input: {'longitude': <tf.Tensor 'ExpandDims_3:0' shape=(None, 1) dtype=float64>, 'latitude': <tf.Tensor 'ExpandDims_2:0' shape=(None, 1) dtype=float64>, 'housing_median_age': <tf.Tensor 'ExpandDims_1:0' shape=(None, 1) dtype=float64>, 'total_rooms': <tf.Tensor 'ExpandDims_8:0' shape=(None, 1) dtype=float64>, 'total_bedrooms': <tf.Tensor 'ExpandDims_7:0' shape=(None, 1) dtype=float64>, 'population': <tf.Tensor 'ExpandDims_6:0' shape=(None, 1) dtype=float64>, 'households': <tf.Tensor 'ExpandDims:0' shape=(None, 1) dtype=float64>, 'median_income': <tf.Tensor 'ExpandDims_4:0' shape=(None, 1) dtype=float64>, 'ocean_proximity': <tf.Tensor 'ExpandDims_5:0' shape=(None, 1) dtype=string>}\n",
      "Consider rewriting this model with the Functional API.\n",
      "WARNING:tensorflow:Layers in a Sequential model should only have a single input tensor, but we receive a <class 'dict'> input: {'longitude': <tf.Tensor 'ExpandDims_3:0' shape=(None, 1) dtype=float64>, 'latitude': <tf.Tensor 'ExpandDims_2:0' shape=(None, 1) dtype=float64>, 'housing_median_age': <tf.Tensor 'ExpandDims_1:0' shape=(None, 1) dtype=float64>, 'total_rooms': <tf.Tensor 'ExpandDims_8:0' shape=(None, 1) dtype=float64>, 'total_bedrooms': <tf.Tensor 'ExpandDims_7:0' shape=(None, 1) dtype=float64>, 'population': <tf.Tensor 'ExpandDims_6:0' shape=(None, 1) dtype=float64>, 'households': <tf.Tensor 'ExpandDims:0' shape=(None, 1) dtype=float64>, 'median_income': <tf.Tensor 'ExpandDims_4:0' shape=(None, 1) dtype=float64>, 'ocean_proximity': <tf.Tensor 'ExpandDims_5:0' shape=(None, 1) dtype=string>}\n",
      "Consider rewriting this model with the Functional API.\n",
      "403/409 [============================>.] - ETA: 0s - loss: 52721741824.0000 - mse: 52721741824.0000WARNING:tensorflow:Layers in a Sequential model should only have a single input tensor, but we receive a <class 'dict'> input: {'longitude': <tf.Tensor 'ExpandDims_3:0' shape=(None, 1) dtype=float64>, 'latitude': <tf.Tensor 'ExpandDims_2:0' shape=(None, 1) dtype=float64>, 'housing_median_age': <tf.Tensor 'ExpandDims_1:0' shape=(None, 1) dtype=float64>, 'total_rooms': <tf.Tensor 'ExpandDims_8:0' shape=(None, 1) dtype=float64>, 'total_bedrooms': <tf.Tensor 'ExpandDims_7:0' shape=(None, 1) dtype=float64>, 'population': <tf.Tensor 'ExpandDims_6:0' shape=(None, 1) dtype=float64>, 'households': <tf.Tensor 'ExpandDims:0' shape=(None, 1) dtype=float64>, 'median_income': <tf.Tensor 'ExpandDims_4:0' shape=(None, 1) dtype=float64>, 'ocean_proximity': <tf.Tensor 'ExpandDims_5:0' shape=(None, 1) dtype=string>}\n",
      "Consider rewriting this model with the Functional API.\n",
      "409/409 [==============================] - 3s 6ms/step - loss: 52598431744.0000 - mse: 52598431744.0000 - val_loss: 45206810624.0000 - val_mse: 45206810624.0000\n",
      "Epoch 2/32\n",
      "409/409 [==============================] - 3s 7ms/step - loss: 31569489920.0000 - mse: 31569489920.0000 - val_loss: 26585237504.0000 - val_mse: 26585237504.0000\n",
      "Epoch 3/32\n",
      "409/409 [==============================] - 2s 5ms/step - loss: 26894665728.0000 - mse: 26894665728.0000 - val_loss: 26040416256.0000 - val_mse: 26040416256.0000\n",
      "Epoch 4/32\n",
      "409/409 [==============================] - 2s 6ms/step - loss: 26443161600.0000 - mse: 26443161600.0000 - val_loss: 25559756800.0000 - val_mse: 25559756800.0000\n",
      "Epoch 5/32\n",
      "409/409 [==============================] - 2s 5ms/step - loss: 25882875904.0000 - mse: 25882875904.0000 - val_loss: 25002059776.0000 - val_mse: 25002059776.0000\n",
      "Epoch 6/32\n",
      "409/409 [==============================] - 2s 5ms/step - loss: 25259448320.0000 - mse: 25259448320.0000 - val_loss: 24322310144.0000 - val_mse: 24322310144.0000\n",
      "Epoch 7/32\n",
      "409/409 [==============================] - 2s 4ms/step - loss: 24531159040.0000 - mse: 24531159040.0000 - val_loss: 23568297984.0000 - val_mse: 23568297984.0000\n",
      "Epoch 8/32\n",
      "409/409 [==============================] - 2s 4ms/step - loss: 23645210624.0000 - mse: 23645210624.0000 - val_loss: 22700500992.0000 - val_mse: 22700500992.0000\n",
      "Epoch 9/32\n",
      "409/409 [==============================] - 2s 4ms/step - loss: 22657677312.0000 - mse: 22657677312.0000 - val_loss: 21710065664.0000 - val_mse: 21710065664.0000\n",
      "Epoch 10/32\n",
      "409/409 [==============================] - 2s 5ms/step - loss: 21569011712.0000 - mse: 21569011712.0000 - val_loss: 20675074048.0000 - val_mse: 20675074048.0000\n",
      "Epoch 11/32\n",
      "409/409 [==============================] - 2s 5ms/step - loss: 20344680448.0000 - mse: 20344680448.0000 - val_loss: 19513309184.0000 - val_mse: 19513309184.0000\n",
      "Epoch 12/32\n",
      "409/409 [==============================] - 2s 5ms/step - loss: 18983311360.0000 - mse: 18983311360.0000 - val_loss: 18200266752.0000 - val_mse: 18200266752.0000\n",
      "Epoch 13/32\n",
      "409/409 [==============================] - 2s 5ms/step - loss: 17555011584.0000 - mse: 17555011584.0000 - val_loss: 16955985920.0000 - val_mse: 16955985920.0000\n",
      "Epoch 14/32\n",
      "409/409 [==============================] - 2s 6ms/step - loss: 16051801088.0000 - mse: 16051801088.0000 - val_loss: 15570480128.0000 - val_mse: 15570480128.0000\n",
      "Epoch 15/32\n",
      "409/409 [==============================] - 2s 6ms/step - loss: 14605899776.0000 - mse: 14605899776.0000 - val_loss: 14304141312.0000 - val_mse: 14304141312.0000\n",
      "Epoch 16/32\n",
      "409/409 [==============================] - 2s 6ms/step - loss: 13352199168.0000 - mse: 13352199168.0000 - val_loss: 13264481280.0000 - val_mse: 13264481280.0000\n",
      "Epoch 17/32\n",
      "409/409 [==============================] - 2s 5ms/step - loss: 12404785152.0000 - mse: 12404785152.0000 - val_loss: 12554972160.0000 - val_mse: 12554972160.0000\n",
      "Epoch 18/32\n",
      "409/409 [==============================] - 2s 5ms/step - loss: 11822008320.0000 - mse: 11822008320.0000 - val_loss: 12136565760.0000 - val_mse: 12136565760.0000\n",
      "Epoch 19/32\n",
      "409/409 [==============================] - 2s 5ms/step - loss: 11512507392.0000 - mse: 11512507392.0000 - val_loss: 11922599936.0000 - val_mse: 11922599936.0000\n",
      "Epoch 20/32\n",
      "409/409 [==============================] - 2s 5ms/step - loss: 11359162368.0000 - mse: 11359162368.0000 - val_loss: 11830786048.0000 - val_mse: 11830786048.0000\n",
      "Epoch 21/32\n",
      "409/409 [==============================] - 2s 4ms/step - loss: 11269612544.0000 - mse: 11269612544.0000 - val_loss: 11733626880.0000 - val_mse: 11733626880.0000\n",
      "Epoch 22/32\n",
      "409/409 [==============================] - 2s 4ms/step - loss: 11210326016.0000 - mse: 11210326016.0000 - val_loss: 11680282624.0000 - val_mse: 11680282624.0000\n",
      "Epoch 23/32\n",
      "409/409 [==============================] - 2s 5ms/step - loss: 11155994624.0000 - mse: 11155994624.0000 - val_loss: 11635730432.0000 - val_mse: 11635730432.0000\n",
      "Epoch 24/32\n",
      "409/409 [==============================] - 2s 5ms/step - loss: 11109586944.0000 - mse: 11109586944.0000 - val_loss: 11587799040.0000 - val_mse: 11587799040.0000\n",
      "Epoch 25/32\n",
      "409/409 [==============================] - 2s 4ms/step - loss: 11067179008.0000 - mse: 11067179008.0000 - val_loss: 11535483904.0000 - val_mse: 11535483904.0000\n",
      "Epoch 26/32\n",
      "409/409 [==============================] - 2s 5ms/step - loss: 11024510976.0000 - mse: 11024510976.0000 - val_loss: 11482640384.0000 - val_mse: 11482640384.0000\n",
      "Epoch 27/32\n",
      "409/409 [==============================] - 2s 4ms/step - loss: 10976542720.0000 - mse: 10976542720.0000 - val_loss: 11438386176.0000 - val_mse: 11438386176.0000\n",
      "Epoch 28/32\n",
      "409/409 [==============================] - 2s 6ms/step - loss: 10932626432.0000 - mse: 10932626432.0000 - val_loss: 11425638400.0000 - val_mse: 11425638400.0000\n",
      "Epoch 29/32\n",
      "409/409 [==============================] - 2s 5ms/step - loss: 10903092224.0000 - mse: 10903092224.0000 - val_loss: 11341489152.0000 - val_mse: 11341489152.0000\n",
      "Epoch 30/32\n",
      "409/409 [==============================] - 2s 4ms/step - loss: 10859359232.0000 - mse: 10859359232.0000 - val_loss: 11330590720.0000 - val_mse: 11330590720.0000\n",
      "Epoch 31/32\n",
      "409/409 [==============================] - 2s 5ms/step - loss: 10811024384.0000 - mse: 10811024384.0000 - val_loss: 11282547712.0000 - val_mse: 11282547712.0000\n",
      "Epoch 32/32\n",
      "409/409 [==============================] - 3s 6ms/step - loss: 10771243008.0000 - mse: 10771243008.0000 - val_loss: 11204175872.0000 - val_mse: 11204175872.0000\n"
     ]
    }
   ],
   "source": [
    "# Model create\n",
    "\n",
    "feature_layer = tf.keras.layers.DenseFeatures(feature_columns, dtype='float64')\n",
    "\n",
    "model = tf.keras.Sequential([\n",
    "  feature_layer,\n",
    "  layers.Dense(12, input_dim=8, activation='relu'),\n",
    "  layers.Dense(8, activation='relu'),\n",
    "  layers.Dense(1, activation='linear',  name='median_house_value')\n",
    "])\n",
    "\n",
    "# Model compile\n",
    "model.compile(optimizer = keras.optimizers.Adam(learning_rate = 0.001),\n",
    "             loss = 'mse',\n",
    "             metrics = ['mse'])\n",
    "\n",
    "# Model Fit\n",
    "history = model.fit(train_ds,\n",
    "                    validation_data=val_ds,\n",
    "                    epochs=32)  # Increase Epochs to 32"
   ]
  },
  {
   "cell_type": "markdown",
   "metadata": {},
   "source": [
    "**Lab Task #3:** Visualizing the loss curves"
   ]
  },
  {
   "cell_type": "code",
   "execution_count": 19,
   "metadata": {},
   "outputs": [
    {
     "data": {
      "image/png": "[encoded data removed]",
      "text/plain": [
       "<Figure size 720x360 with 2 Axes>"
      ]
     },
     "metadata": {
      "needs_background": "light"
     },
     "output_type": "display_data"
    }
   ],
   "source": [
    "def plot_curves(history, metrics):\n",
    "    nrows = 1\n",
    "    ncols = 2\n",
    "# Using the `figure()` method we can create a new figure or activate an existing figure.\n",
    "    fig = plt.figure(figsize=(10, 5))\n",
    "\n",
    "    for idx, key in enumerate(metrics):  \n",
    "# Using the `add_subplot()` method we can add a subplot to the current figure.\n",
    "        ax = fig.add_subplot(nrows, ncols, idx+1)\n",
    "# The `plot()` is a versatile function and will take an arbitrary number of arguments. \n",
    "        plt.plot(history.history[key])\n",
    "        plt.plot(history.history['val_{}'.format(key)])\n",
    "        plt.title('model {}'.format(key))\n",
    "        plt.ylabel(key)\n",
    "        plt.xlabel('epoch')\n",
    "# Using the `legend()` method we can place a legend on the axes.\n",
    "        plt.legend(['train', 'validation'], loc='upper left'); \n",
    "\n",
    "plot_curves(history, ['loss', 'mse'])"
   ]
  },
  {
   "cell_type": "markdown",
   "metadata": {},
   "source": [
    "Copyright 2020 Google Inc.\n",
    "Licensed under the Apache License, Version 2.0 (the \"License\"); you may not use this file except in compliance with the License. You may obtain a copy of the License at\n",
    "http://www.apache.org/licenses/LICENSE-2.0\n",
    "Unless required by applicable law or agreed to in writing, software distributed under the License is distributed on an \"AS IS\" BASIS, WITHOUT WARRANTIES OR CONDITIONS OF ANY KIND, either express or implied. See the License for the specific language governing permissions and limitations under the License."
   ]
  }
 ],
 "metadata": {
  "colab": {
   "collapsed_sections": [],
   "name": "learning_rate.ipynb",
   "provenance": [],
   "toc_visible": true
  },
  "environment": {
   "name": "tf2-gpu.2-5.m76",
   "type": "gcloud",
   "uri": "gcr.io/deeplearning-platform-release/tf2-gpu.2-5:m76"
  },
  "kernelspec": {
   "display_name": "Python 3",
   "language": "python",
   "name": "python3"
  },
  "language_info": {
   "codemirror_mode": {
    "name": "ipython",
    "version": 3
   },
   "file_extension": ".py",
   "mimetype": "text/x-python",
   "name": "python",
   "nbconvert_exporter": "python",
   "pygments_lexer": "ipython3",
   "version": "3.7.10"
  }
 },
 "nbformat": 4,
 "nbformat_minor": 4
}
