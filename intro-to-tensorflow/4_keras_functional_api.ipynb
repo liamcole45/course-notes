{
 "cells": [
  {
   "cell_type": "markdown",
   "metadata": {},
   "source": [
    "# Introducing the Keras Functional API\n",
    "\n",
    "**Learning Objectives**\n",
    "  1. Understand embeddings and how to create them with the feature column API\n",
    "  1. Understand Deep and Wide models and when to use them\n",
    "  1. Understand the Keras functional API and how to build a deep and wide model with it\n",
    "\n",
    "## Introduction\n",
    "\n",
    "In the last notebook, we learned about the Keras Sequential API. The [Keras Functional API](https://www.tensorflow.org/guide/keras#functional_api) provides an alternate way of building models which is more flexible. With the Functional API, we can build models with more complex topologies, multiple input or output layers, shared layers or non-sequential data flows (e.g. residual layers).\n",
    "\n",
    "In this notebook we'll use what we learned about feature columns to build a Wide & Deep model. Recall, that the idea behind Wide & Deep models is to join the two methods of learning through memorization and generalization by making a wide linear model and a deep learning model to accommodate both. You can have a look at the original research paper here: [Wide & Deep Learning for Recommender Systems](https://arxiv.org/abs/1606.07792).\n",
    "\n",
    "<img src='assets/wide_deep.png' width='80%'>\n",
    "<sup>(image: https://ai.googleblog.com/2016/06/wide-deep-learning-better-together-with.html)</sup>\n",
    "\n",
    "The Wide part of the model is associated with the memory element. In this case, we train a linear model with a wide set of crossed features and learn the correlation of this related data with the assigned label. The Deep part of the model is associated with the generalization element where we use embedding vectors for features. The best embeddings are then learned through the training process. While both of these methods can work well alone, Wide & Deep models excel by combining these techniques together.\n",
    "\n",
    "Each learning objective will correspond to a __#TODO__  in this student lab notebook -- try to complete this notebook first and then review the [solution notebook](https://github.com/GoogleCloudPlatform/training-data-analyst/blob/master/courses/machine_learning/deepdive2/introduction_to_tensorflow/solutions/4_keras_functional_api.ipynb)\n"
   ]
  },
  {
   "cell_type": "code",
   "execution_count": 1,
   "metadata": {},
   "outputs": [],
   "source": [
    "# Use the chown command to change the ownership of the repository.\n",
    "!sudo chown -R jupyter:jupyter /home/jupyter/training-data-analyst"
   ]
  },
  {
   "cell_type": "code",
   "execution_count": 2,
   "metadata": {},
   "outputs": [
    {
     "name": "stdout",
     "output_type": "stream",
     "text": [
      "Collecting tensorflow==2.3\n",
      "  Downloading tensorflow-2.3.0-cp37-cp37m-manylinux2010_x86_64.whl (320.4 MB)\n",
      "\u001b[K     |████████████████████████████████| 320.4 MB 33 kB/s s eta 0:00:01██████████████▋           | 206.0 MB 76.4 MB/s eta 0:00:02\n",
      "\u001b[?25hRequirement already satisfied: protobuf>=3.9.2 in /opt/conda/lib/python3.7/site-packages (from tensorflow==2.3) (3.16.0)\n",
      "Requirement already satisfied: termcolor>=1.1.0 in /opt/conda/lib/python3.7/site-packages (from tensorflow==2.3) (1.1.0)\n",
      "Requirement already satisfied: wrapt>=1.11.1 in /opt/conda/lib/python3.7/site-packages (from tensorflow==2.3) (1.12.1)\n",
      "Requirement already satisfied: wheel>=0.26 in /opt/conda/lib/python3.7/site-packages (from tensorflow==2.3) (0.36.2)\n",
      "Requirement already satisfied: six>=1.12.0 in /opt/conda/lib/python3.7/site-packages (from tensorflow==2.3) (1.16.0)\n",
      "Requirement already satisfied: absl-py>=0.7.0 in /opt/conda/lib/python3.7/site-packages (from tensorflow==2.3) (0.13.0)\n",
      "Requirement already satisfied: google-pasta>=0.1.8 in /opt/conda/lib/python3.7/site-packages (from tensorflow==2.3) (0.2.0)\n",
      "Collecting gast==0.3.3\n",
      "  Downloading gast-0.3.3-py2.py3-none-any.whl (9.7 kB)\n",
      "Requirement already satisfied: opt-einsum>=2.3.2 in /opt/conda/lib/python3.7/site-packages (from tensorflow==2.3) (3.3.0)\n",
      "Requirement already satisfied: tensorboard<3,>=2.3.0 in /opt/conda/lib/python3.7/site-packages (from tensorflow==2.3) (2.5.0)\n",
      "Collecting scipy==1.4.1\n",
      "  Downloading scipy-1.4.1-cp37-cp37m-manylinux1_x86_64.whl (26.1 MB)\n",
      "\u001b[K     |████████████████████████████████| 26.1 MB 52.6 MB/s eta 0:00:01\n",
      "\u001b[?25hRequirement already satisfied: keras-preprocessing<1.2,>=1.1.1 in /opt/conda/lib/python3.7/site-packages (from tensorflow==2.3) (1.1.2)\n",
      "Requirement already satisfied: grpcio>=1.8.6 in /opt/conda/lib/python3.7/site-packages (from tensorflow==2.3) (1.38.1)\n",
      "Collecting h5py<2.11.0,>=2.10.0\n",
      "  Downloading h5py-2.10.0-cp37-cp37m-manylinux1_x86_64.whl (2.9 MB)\n",
      "\u001b[K     |████████████████████████████████| 2.9 MB 60.9 MB/s eta 0:00:01\n",
      "\u001b[?25hCollecting tensorflow-estimator<2.4.0,>=2.3.0\n",
      "  Downloading tensorflow_estimator-2.3.0-py2.py3-none-any.whl (459 kB)\n",
      "\u001b[K     |████████████████████████████████| 459 kB 74.2 MB/s eta 0:00:01\n",
      "\u001b[?25hRequirement already satisfied: astunparse==1.6.3 in /opt/conda/lib/python3.7/site-packages (from tensorflow==2.3) (1.6.3)\n",
      "Collecting numpy<1.19.0,>=1.16.0\n",
      "  Downloading numpy-1.18.5-cp37-cp37m-manylinux1_x86_64.whl (20.1 MB)\n",
      "\u001b[K     |████████████████████████████████| 20.1 MB 50.5 MB/s eta 0:00:01\n",
      "\u001b[?25hRequirement already satisfied: markdown>=2.6.8 in /opt/conda/lib/python3.7/site-packages (from tensorboard<3,>=2.3.0->tensorflow==2.3) (3.3.4)\n",
      "Requirement already satisfied: google-auth-oauthlib<0.5,>=0.4.1 in /opt/conda/lib/python3.7/site-packages (from tensorboard<3,>=2.3.0->tensorflow==2.3) (0.4.4)\n",
      "Requirement already satisfied: werkzeug>=0.11.15 in /opt/conda/lib/python3.7/site-packages (from tensorboard<3,>=2.3.0->tensorflow==2.3) (2.0.1)\n",
      "Requirement already satisfied: tensorboard-data-server<0.7.0,>=0.6.0 in /opt/conda/lib/python3.7/site-packages (from tensorboard<3,>=2.3.0->tensorflow==2.3) (0.6.1)\n",
      "Requirement already satisfied: setuptools>=41.0.0 in /opt/conda/lib/python3.7/site-packages (from tensorboard<3,>=2.3.0->tensorflow==2.3) (49.6.0.post20210108)\n",
      "Requirement already satisfied: google-auth<2,>=1.6.3 in /opt/conda/lib/python3.7/site-packages (from tensorboard<3,>=2.3.0->tensorflow==2.3) (1.30.2)\n",
      "Requirement already satisfied: requests<3,>=2.21.0 in /opt/conda/lib/python3.7/site-packages (from tensorboard<3,>=2.3.0->tensorflow==2.3) (2.25.1)\n",
      "Requirement already satisfied: tensorboard-plugin-wit>=1.6.0 in /opt/conda/lib/python3.7/site-packages (from tensorboard<3,>=2.3.0->tensorflow==2.3) (1.8.0)\n",
      "Requirement already satisfied: cachetools<5.0,>=2.0.0 in /opt/conda/lib/python3.7/site-packages (from google-auth<2,>=1.6.3->tensorboard<3,>=2.3.0->tensorflow==2.3) (4.2.2)\n",
      "Requirement already satisfied: rsa<5,>=3.1.4 in /opt/conda/lib/python3.7/site-packages (from google-auth<2,>=1.6.3->tensorboard<3,>=2.3.0->tensorflow==2.3) (4.7.2)\n",
      "Requirement already satisfied: pyasn1-modules>=0.2.1 in /opt/conda/lib/python3.7/site-packages (from google-auth<2,>=1.6.3->tensorboard<3,>=2.3.0->tensorflow==2.3) (0.2.7)\n",
      "Requirement already satisfied: requests-oauthlib>=0.7.0 in /opt/conda/lib/python3.7/site-packages (from google-auth-oauthlib<0.5,>=0.4.1->tensorboard<3,>=2.3.0->tensorflow==2.3) (1.3.0)\n",
      "Requirement already satisfied: importlib-metadata in /opt/conda/lib/python3.7/site-packages (from markdown>=2.6.8->tensorboard<3,>=2.3.0->tensorflow==2.3) (4.5.0)\n",
      "Requirement already satisfied: pyasn1<0.5.0,>=0.4.6 in /opt/conda/lib/python3.7/site-packages (from pyasn1-modules>=0.2.1->google-auth<2,>=1.6.3->tensorboard<3,>=2.3.0->tensorflow==2.3) (0.4.8)\n",
      "Requirement already satisfied: urllib3<1.27,>=1.21.1 in /opt/conda/lib/python3.7/site-packages (from requests<3,>=2.21.0->tensorboard<3,>=2.3.0->tensorflow==2.3) (1.26.5)\n",
      "Requirement already satisfied: chardet<5,>=3.0.2 in /opt/conda/lib/python3.7/site-packages (from requests<3,>=2.21.0->tensorboard<3,>=2.3.0->tensorflow==2.3) (4.0.0)\n",
      "Requirement already satisfied: certifi>=2017.4.17 in /opt/conda/lib/python3.7/site-packages (from requests<3,>=2.21.0->tensorboard<3,>=2.3.0->tensorflow==2.3) (2021.5.30)\n",
      "Requirement already satisfied: idna<3,>=2.5 in /opt/conda/lib/python3.7/site-packages (from requests<3,>=2.21.0->tensorboard<3,>=2.3.0->tensorflow==2.3) (2.10)\n",
      "Requirement already satisfied: oauthlib>=3.0.0 in /opt/conda/lib/python3.7/site-packages (from requests-oauthlib>=0.7.0->google-auth-oauthlib<0.5,>=0.4.1->tensorboard<3,>=2.3.0->tensorflow==2.3) (3.1.1)\n",
      "Requirement already satisfied: zipp>=0.5 in /opt/conda/lib/python3.7/site-packages (from importlib-metadata->markdown>=2.6.8->tensorboard<3,>=2.3.0->tensorflow==2.3) (3.4.1)\n",
      "Requirement already satisfied: typing-extensions>=3.6.4 in /opt/conda/lib/python3.7/site-packages (from importlib-metadata->markdown>=2.6.8->tensorboard<3,>=2.3.0->tensorflow==2.3) (3.10.0.0)\n",
      "Installing collected packages: numpy, tensorflow-estimator, scipy, h5py, gast, tensorflow\n",
      "  Attempting uninstall: numpy\n",
      "    Found existing installation: numpy 1.19.5\n",
      "    Uninstalling numpy-1.19.5:\n",
      "      Successfully uninstalled numpy-1.19.5\n",
      "  Attempting uninstall: tensorflow-estimator\n",
      "    Found existing installation: tensorflow-estimator 2.5.0\n",
      "    Uninstalling tensorflow-estimator-2.5.0:\n",
      "      Successfully uninstalled tensorflow-estimator-2.5.0\n",
      "  Attempting uninstall: scipy\n",
      "    Found existing installation: scipy 1.6.3\n",
      "    Uninstalling scipy-1.6.3:\n",
      "      Successfully uninstalled scipy-1.6.3\n",
      "  Attempting uninstall: h5py\n",
      "    Found existing installation: h5py 3.1.0\n",
      "    Uninstalling h5py-3.1.0:\n",
      "      Successfully uninstalled h5py-3.1.0\n",
      "  Attempting uninstall: gast\n",
      "    Found existing installation: gast 0.4.0\n",
      "    Uninstalling gast-0.4.0:\n",
      "      Successfully uninstalled gast-0.4.0\n",
      "  Attempting uninstall: tensorflow\n",
      "    Found existing installation: tensorflow 2.5.0\n",
      "    Uninstalling tensorflow-2.5.0:\n",
      "      Successfully uninstalled tensorflow-2.5.0\n",
      "\u001b[31mERROR: pip's dependency resolver does not currently take into account all the packages that are installed. This behaviour is the source of the following dependency conflicts.\n",
      "tensorflow-io 0.18.0 requires tensorflow-io-gcs-filesystem==0.18.0, which is not installed.\n",
      "tfx-bsl 1.0.0 requires absl-py<0.13,>=0.9, but you have absl-py 0.13.0 which is incompatible.\n",
      "tfx-bsl 1.0.0 requires google-api-python-client<2,>=1.7.11, but you have google-api-python-client 2.10.0 which is incompatible.\n",
      "tfx-bsl 1.0.0 requires pyarrow<3,>=1, but you have pyarrow 4.0.1 which is incompatible.\n",
      "tfx-bsl 1.0.0 requires tensorflow!=2.0.*,!=2.1.*,!=2.2.*,!=2.3.*,!=2.4.*,<3,>=1.15.2, but you have tensorflow 2.3.0 which is incompatible.\n",
      "tensorflow-transform 1.0.0 requires absl-py<0.13,>=0.9, but you have absl-py 0.13.0 which is incompatible.\n",
      "tensorflow-transform 1.0.0 requires pyarrow<3,>=1, but you have pyarrow 4.0.1 which is incompatible.\n",
      "tensorflow-transform 1.0.0 requires tensorflow!=2.0.*,!=2.1.*,!=2.2.*,!=2.3.*,!=2.4.*,<2.6,>=1.15.2, but you have tensorflow 2.3.0 which is incompatible.\n",
      "tensorflow-serving-api 2.5.1 requires tensorflow<3,>=2.5.0, but you have tensorflow 2.3.0 which is incompatible.\n",
      "tensorflow-io 0.18.0 requires tensorflow<2.6.0,>=2.5.0, but you have tensorflow 2.3.0 which is incompatible.\n",
      "phik 0.11.2 requires scipy>=1.5.2, but you have scipy 1.4.1 which is incompatible.\n",
      "apache-beam 2.30.0 requires dill<0.3.2,>=0.3.1.1, but you have dill 0.3.4 which is incompatible.\n",
      "apache-beam 2.30.0 requires pyarrow<4.0.0,>=0.15.1, but you have pyarrow 4.0.1 which is incompatible.\n",
      "apache-beam 2.30.0 requires typing-extensions<3.8.0,>=3.7.0, but you have typing-extensions 3.10.0.0 which is incompatible.\u001b[0m\n",
      "Successfully installed gast-0.3.3 h5py-2.10.0 numpy-1.18.5 scipy-1.4.1 tensorflow-2.3.0 tensorflow-estimator-2.3.0\n"
     ]
    }
   ],
   "source": [
    "# Ensure the right version of Tensorflow is installed.\n",
    "!pip freeze | grep tensorflow==2.3 || pip install tensorflow==2.3"
   ]
  },
  {
   "cell_type": "markdown",
   "metadata": {},
   "source": [
    "Kindly ignore the deprecation warnings and incompatibility errors."
   ]
  },
  {
   "cell_type": "markdown",
   "metadata": {},
   "source": [
    "Start by importing the necessary libraries for this lab."
   ]
  },
  {
   "cell_type": "code",
   "execution_count": 3,
   "metadata": {},
   "outputs": [
    {
     "name": "stdout",
     "output_type": "stream",
     "text": [
      "2.3.0\n"
     ]
    }
   ],
   "source": [
    "import datetime\n",
    "import os\n",
    "import shutil\n",
    "\n",
    "import numpy as np\n",
    "import pandas as pd\n",
    "import tensorflow as tf\n",
    "\n",
    "from matplotlib import pyplot as plt\n",
    "from tensorflow import keras\n",
    "\n",
    "from tensorflow import feature_column as fc\n",
    "\n",
    "from tensorflow.keras import Model\n",
    "from tensorflow.keras.layers import (\n",
    "    Input, Dense, DenseFeatures, concatenate)\n",
    "from tensorflow.keras.callbacks import TensorBoard\n",
    "\n",
    "print(tf.__version__)"
   ]
  },
  {
   "cell_type": "code",
   "execution_count": 4,
   "metadata": {},
   "outputs": [],
   "source": [
    "%matplotlib inline"
   ]
  },
  {
   "cell_type": "markdown",
   "metadata": {},
   "source": [
    "## Load raw data \n",
    "\n",
    "We will use the taxifare dataset, using the CSV files that we created in the first notebook of this sequence. Those files have been saved into `../data`."
   ]
  },
  {
   "cell_type": "code",
   "execution_count": 5,
   "metadata": {},
   "outputs": [
    {
     "name": "stdout",
     "output_type": "stream",
     "text": [
      "-rw-r--r-- 1 jupyter jupyter 123590 Jul  1 23:45 ../data/taxi-test.csv\n",
      "-rw-r--r-- 1 jupyter jupyter 579055 Jul  1 23:45 ../data/taxi-train.csv\n",
      "-rw-r--r-- 1 jupyter jupyter 123114 Jul  1 23:45 ../data/taxi-valid.csv\n"
     ]
    }
   ],
   "source": [
    "!ls -l ../data/*.csv"
   ]
  },
  {
   "cell_type": "markdown",
   "metadata": {},
   "source": [
    "## Use tf.data to read the CSV files\n",
    "\n",
    "We wrote these functions for reading data from the csv files above in the [previous notebook](2_dataset_api.ipynb). For this lab we will also include some additional engineered features in our model. In particular, we will compute the difference in latitude and longitude, as well as the Euclidean distance between the pick-up and drop-off locations. We can accomplish this by adding these new features to the features dictionary with the function `add_engineered_features` below. \n",
    "\n",
    "Note that we include a call to this function when collecting our features dict and labels in the `features_and_labels` function below as well. "
   ]
  },
  {
   "cell_type": "code",
   "execution_count": 6,
   "metadata": {},
   "outputs": [],
   "source": [
    "CSV_COLUMNS = [\n",
    "    'fare_amount',\n",
    "    'pickup_datetime',\n",
    "    'pickup_longitude',\n",
    "    'pickup_latitude',\n",
    "    'dropoff_longitude',\n",
    "    'dropoff_latitude',\n",
    "    'passenger_count',\n",
    "    'key'\n",
    "]\n",
    "LABEL_COLUMN = 'fare_amount'\n",
    "DEFAULTS = [[0.0], ['na'], [0.0], [0.0], [0.0], [0.0], [0.0], ['na']]\n",
    "UNWANTED_COLS = ['pickup_datetime', 'key']\n",
    "\n",
    "\n",
    "def features_and_labels(row_data):\n",
    "    label = row_data.pop(LABEL_COLUMN)\n",
    "    features = row_data\n",
    "        \n",
    "    for unwanted_col in UNWANTED_COLS:\n",
    "        features.pop(unwanted_col)\n",
    "\n",
    "    return features, label\n",
    "\n",
    "\n",
    "def create_dataset(pattern, batch_size=1, mode='eval'):\n",
    "    dataset = tf.data.experimental.make_csv_dataset(\n",
    "        pattern, batch_size, CSV_COLUMNS, DEFAULTS)\n",
    "\n",
    "    dataset = dataset.map(features_and_labels)\n",
    "    \n",
    "    if mode == 'train':\n",
    "        dataset = dataset.shuffle(buffer_size=1000).repeat()\n",
    "\n",
    "    # take advantage of multi-threading; 1=AUTOTUNE\n",
    "    dataset = dataset.prefetch(1)\n",
    "    return dataset"
   ]
  },
  {
   "cell_type": "markdown",
   "metadata": {},
   "source": [
    "## Feature columns for Wide and Deep model\n",
    "\n",
    "For the Wide columns, we will create feature columns of crossed features. To do this, we'll create a collection of Tensorflow feature columns to pass to the `tf.feature_column.crossed_column` constructor. The Deep columns will consist of numeric columns and the embedding columns we want to create. "
   ]
  },
  {
   "cell_type": "markdown",
   "metadata": {},
   "source": [
    "**Lab Task #1:** In the cell below, create feature columns for our wide-and-deep model. You'll need to build \n",
    "1. bucketized columns using [tf.feature_column.bucketized_column](https://www.tensorflow.org/api_docs/python/tf/feature_column/bucketized_column) for the pickup and dropoff latitude and longitude,\n",
    "2. crossed columns using [tf.feature_column.crossed_column](https://www.tensorflow.org/api_docs/python/tf/feature_column/crossed_column) for those bucketized columns, and \n",
    "3. embedding columns using [tf.feature_column.embedding_column](https://www.tensorflow.org/api_docs/python/tf/feature_column/embedding_column) for the crossed columns."
   ]
  },
  {
   "cell_type": "code",
   "execution_count": 23,
   "metadata": {},
   "outputs": [],
   "source": [
    "# 1. Bucketize latitudes and longitudes\n",
    "NBUCKETS = 16\n",
    "latbuckets = np.linspace(start=38.0, stop=42.0, num=NBUCKETS).tolist()\n",
    "lonbuckets = np.linspace(start=-76.0, stop=-72.0, num=NBUCKETS).tolist()\n",
    "\n",
    "fc_bucketized_plat = fc.bucketized_column(source_column=fc.numeric_column('pickup_latitude'), \n",
    "                                                         boundaries=latbuckets)\n",
    "fc_bucketized_plon = fc.bucketized_column(source_column=fc.numeric_column('pickup_longitude'), \n",
    "                                                         boundaries=lonbuckets)\n",
    "fc_bucketized_dlat = fc.bucketized_column(source_column=fc.numeric_column('dropoff_latitude'),\n",
    "                                                         boundaries=latbuckets)\n",
    "fc_bucketized_dlon = fc.bucketized_column(source_column=fc.numeric_column('dropoff_longitude'),\n",
    "                                                         boundaries=lonbuckets)\n",
    "\n",
    "# 2. Cross features for locations\n",
    "fc_crossed_dloc = fc.crossed_column([fc_bucketized_dlat,fc_bucketized_dlon],\n",
    "                                                   hash_bucket_size=NBUCKETS * NBUCKETS)\n",
    "fc_crossed_ploc = fc.crossed_column([fc_bucketized_plat,fc_bucketized_plon],\n",
    "                                                   hash_bucket_size=NBUCKETS * NBUCKETS)\n",
    "fc_crossed_pd_pair = fc.crossed_column([fc_crossed_dloc,fc_crossed_ploc],\n",
    "                                                     hash_bucket_size=NBUCKETS**4) # to the power of\n",
    "\n",
    "# 3. Create embedding columns for the crossed columns\n",
    "# not sure how dimension is calculated\n",
    "fc_pd_pair = fc.embedding_column(categorical_column=fc_crossed_pd_pair, dimension=3) \n",
    "fc_dloc = fc.embedding_column(categorical_column=fc_crossed_dloc, dimension=3)\n",
    "fc_ploc = fc.embedding_column(categorical_column=fc_crossed_ploc, dimension=3)"
   ]
  },
  {
   "cell_type": "markdown",
   "metadata": {},
   "source": [
    "### Gather list of feature columns\n",
    "\n",
    "Next we gather the list of wide and deep feature columns we'll pass to our Wide & Deep model in Tensorflow. Recall, wide columns are sparse, have linear relationship with the output while continuous columns are deep, have a complex relationship with the output. We will use our previously bucketized columns to collect crossed feature columns and sparse feature columns for our wide columns, and embedding feature columns and numeric features columns for the deep columns."
   ]
  },
  {
   "cell_type": "markdown",
   "metadata": {},
   "source": [
    "**Lab Task #2:** Collect the wide and deep columns into two separate lists. You'll have two lists: One called `wide_columns` containing the one-hot encoded features from the crossed features and one called `deep_columns` which contains numeric and embedding feature columns."
   ]
  },
  {
   "cell_type": "code",
   "execution_count": 24,
   "metadata": {},
   "outputs": [],
   "source": [
    "wide_columns = [\n",
    "    # One-hot encoded feature crosses\n",
    "    fc.indicator_column(fc_crossed_dloc),\n",
    "    fc.indicator_column(fc_crossed_ploc), \n",
    "    fc.indicator_column(fc_crossed_pd_pair)\n",
    "]\n",
    "\n",
    "deep_columns = [\n",
    "    # Embedding_column to \"group\" together ...\n",
    "    # not sure how dimension is calculated\n",
    "    fc.embedding_column(fc_crossed_pd_pair, dimension=10),\n",
    "\n",
    "    # Numeric columns\n",
    "    fc.numeric_column('pickup_latitude'),\n",
    "    fc.numeric_column('pickup_longitude'),\n",
    "    fc.numeric_column('dropoff_latitude'),\n",
    "    fc.numeric_column('dropoff_longitude')\n",
    "]"
   ]
  },
  {
   "cell_type": "markdown",
   "metadata": {},
   "source": [
    "## Build a Wide and Deep model in Keras\n",
    "\n",
    "To build a wide-and-deep network, we connect the sparse (i.e. wide) features directly to the output node, but pass the dense (i.e. deep) features through a set of fully connected layers. Here’s that model architecture looks using the Functional API.\n",
    "\n",
    "First, we'll create our input columns using [tf.keras.layers.Input](https://www.tensorflow.org/versions/r2.0/api_docs/python/tf/keras/Input)."
   ]
  },
  {
   "cell_type": "code",
   "execution_count": 25,
   "metadata": {},
   "outputs": [],
   "source": [
    "INPUT_COLS = [\n",
    "    'pickup_longitude',\n",
    "    'pickup_latitude',\n",
    "    'dropoff_longitude',\n",
    "    'dropoff_latitude',\n",
    "    'passenger_count'\n",
    "]\n",
    "\n",
    "inputs = {colname : Input(name=colname, shape=(), dtype='float32')\n",
    "          for colname in INPUT_COLS\n",
    "}"
   ]
  },
  {
   "cell_type": "markdown",
   "metadata": {},
   "source": [
    "Then, we'll define our custom RMSE evaluation metric and build our wide and deep model."
   ]
  },
  {
   "cell_type": "markdown",
   "metadata": {},
   "source": [
    "**Lab Task #3:** Complete the code in the function `build_model` below so that it returns a compiled Keras model. The argument `dnn_hidden_units` should represent the number of units in each layer of your network. Use the Functional API to build a wide-and-deep model. Use the `deep_columns` you created above to build the deep layers and the `wide_columns` to create the wide layers. Once you have the wide and deep components, you will combine them to feed to a final fully connected layer. "
   ]
  },
  {
   "cell_type": "code",
   "execution_count": 28,
   "metadata": {},
   "outputs": [],
   "source": [
    "def rmse(y_true, y_pred):\n",
    "    return tf.sqrt(tf.reduce_mean(tf.square(y_pred - y_true)))\n",
    "\n",
    "def build_model(dnn_hidden_units):\n",
    "    # Create the deep part of model\n",
    "    # A layer that produces a dense Tensor based on given feature_columns.\n",
    "    deep = DenseFeatures(deep_columns, name='deep_inputs')(inputs)\n",
    "    for num_nodes in dnn_hidden_units:\n",
    "        deep = Dense(num_nodes, activation='relu')(deep)\n",
    "    \n",
    "    # Create the wide part of model\n",
    "    wide = DenseFeatures(wide_columns, name='wide_inputs')(inputs)\n",
    "\n",
    "    # Combine deep and wide parts of the model\n",
    "    combined = concatenate(inputs=[deep, wide], name='combined')\n",
    "\n",
    "    # Map the combined outputs into a single prediction value\n",
    "    output = Dense(units=1, activation=None, name='prediction')(combined)\n",
    "    \n",
    "    # Finalize the model\n",
    "    model = Model(inputs=list(inputs.values()), outputs=output)\n",
    "\n",
    "    # Compile the keras model\n",
    "    model.compile(optimizer='adam', loss=\"mse\", metrics=[rmse, 'mse'])\n",
    "    \n",
    "    return model"
   ]
  },
  {
   "cell_type": "markdown",
   "metadata": {},
   "source": [
    "Next, we can call the `build_model` to create the model. Here we'll have two hidden layers, each with 10 neurons, for the deep part of our model. We can also use `plot_model` to see a diagram of the model we've created."
   ]
  },
  {
   "cell_type": "code",
   "execution_count": 29,
   "metadata": {},
   "outputs": [
    {
     "data": {
      "image/png": "[encoded data removed]",
      "text/plain": [
       "<IPython.core.display.Image object>"
      ]
     },
     "execution_count": 29,
     "metadata": {},
     "output_type": "execute_result"
    }
   ],
   "source": [
    "HIDDEN_UNITS = [10,10]\n",
    "\n",
    "model = build_model(dnn_hidden_units=HIDDEN_UNITS)\n",
    "\n",
    "tf.keras.utils.plot_model(model, show_shapes=False, rankdir='LR')"
   ]
  },
  {
   "cell_type": "markdown",
   "metadata": {},
   "source": [
    "Next, we'll set up our training variables, create our datasets for training and validation, and train our model.\n",
    "\n",
    "(We refer you the the blog post [ML Design Pattern #3: Virtual Epochs](https://medium.com/google-cloud/ml-design-pattern-3-virtual-epochs-f842296de730) for further details on why express the training in terms of `NUM_TRAIN_EXAMPLES` and `NUM_EVALS` and why, in this training code, the number of epochs is really equal to the number of evaluations we perform.)"
   ]
  },
  {
   "cell_type": "code",
   "execution_count": 30,
   "metadata": {},
   "outputs": [],
   "source": [
    "BATCH_SIZE = 1000\n",
    "NUM_TRAIN_EXAMPLES = 10000 * 5  # training dataset will repeat, wrap around\n",
    "NUM_EVALS = 50  # how many times to evaluate\n",
    "NUM_EVAL_EXAMPLES = 10000  # enough to get a reasonable sample\n",
    "\n",
    "trainds = create_dataset(\n",
    "    pattern='../data/taxi-train*',\n",
    "    batch_size=BATCH_SIZE,\n",
    "    mode='train')\n",
    "\n",
    "evalds = create_dataset(\n",
    "    pattern='../data/taxi-valid*',\n",
    "    batch_size=BATCH_SIZE,\n",
    "    mode='eval').take(NUM_EVAL_EXAMPLES//1000)"
   ]
  },
  {
   "cell_type": "code",
   "execution_count": 31,
   "metadata": {},
   "outputs": [
    {
     "name": "stdout",
     "output_type": "stream",
     "text": [
      "Epoch 1/50\n",
      "1/1 [==============================] - 2s 2s/step - loss: 203.1905 - rmse: 14.2545 - mse: 203.1905 - val_loss: 246.2387 - val_rmse: 15.6815 - val_mse: 246.2387\n",
      "Epoch 2/50\n",
      "WARNING:tensorflow:From /opt/conda/lib/python3.7/site-packages/tensorflow/python/ops/summary_ops_v2.py:1277: stop (from tensorflow.python.eager.profiler) is deprecated and will be removed after 2020-07-01.\n",
      "Instructions for updating:\n",
      "use `tf.profiler.experimental.stop` instead.\n",
      "1/1 [==============================] - 2s 2s/step - loss: 213.9453 - rmse: 14.6269 - mse: 213.9453 - val_loss: 242.7397 - val_rmse: 15.5689 - val_mse: 242.7397\n",
      "Epoch 3/50\n",
      "1/1 [==============================] - 1s 1s/step - loss: 215.0790 - rmse: 14.6656 - mse: 215.0790 - val_loss: 236.4153 - val_rmse: 15.3684 - val_mse: 236.4153\n",
      "Epoch 4/50\n",
      "1/1 [==============================] - 1s 1s/step - loss: 234.1293 - rmse: 15.3013 - mse: 234.1293 - val_loss: 234.6803 - val_rmse: 15.3141 - val_mse: 234.6803\n",
      "Epoch 5/50\n",
      "1/1 [==============================] - 1s 1s/step - loss: 235.0202 - rmse: 15.3304 - mse: 235.0202 - val_loss: 232.8389 - val_rmse: 15.2461 - val_mse: 232.8389\n",
      "Epoch 6/50\n",
      "1/1 [==============================] - 1s 1s/step - loss: 165.8592 - rmse: 12.8786 - mse: 165.8592 - val_loss: 226.9869 - val_rmse: 15.0612 - val_mse: 226.9869\n",
      "Epoch 7/50\n",
      "1/1 [==============================] - 1s 1s/step - loss: 213.9370 - rmse: 14.6266 - mse: 213.9370 - val_loss: 224.9472 - val_rmse: 14.9883 - val_mse: 224.9472\n",
      "Epoch 8/50\n",
      "1/1 [==============================] - 1s 1s/step - loss: 216.5960 - rmse: 14.7172 - mse: 216.5960 - val_loss: 222.0074 - val_rmse: 14.8912 - val_mse: 222.0073\n",
      "Epoch 9/50\n",
      "1/1 [==============================] - 1s 1s/step - loss: 208.7149 - rmse: 14.4470 - mse: 208.7149 - val_loss: 220.5757 - val_rmse: 14.8435 - val_mse: 220.5757\n",
      "Epoch 10/50\n",
      "1/1 [==============================] - 1s 1s/step - loss: 193.0623 - rmse: 13.8947 - mse: 193.0623 - val_loss: 218.1470 - val_rmse: 14.7600 - val_mse: 218.1470\n",
      "Epoch 11/50\n",
      "1/1 [==============================] - 1s 1s/step - loss: 182.5671 - rmse: 13.5117 - mse: 182.5671 - val_loss: 212.2521 - val_rmse: 14.5449 - val_mse: 212.2521\n",
      "Epoch 12/50\n",
      "1/1 [==============================] - 1s 1s/step - loss: 193.2229 - rmse: 13.9005 - mse: 193.2229 - val_loss: 208.9658 - val_rmse: 14.4501 - val_mse: 208.9658\n",
      "Epoch 13/50\n",
      "1/1 [==============================] - 1s 1s/step - loss: 161.8617 - rmse: 12.7225 - mse: 161.8617 - val_loss: 204.3721 - val_rmse: 14.2818 - val_mse: 204.3721\n",
      "Epoch 14/50\n",
      "1/1 [==============================] - 1s 1s/step - loss: 209.9098 - rmse: 14.4883 - mse: 209.9098 - val_loss: 204.4211 - val_rmse: 14.2881 - val_mse: 204.4211\n",
      "Epoch 15/50\n",
      "1/1 [==============================] - 1s 1s/step - loss: 173.1912 - rmse: 13.1602 - mse: 173.1912 - val_loss: 201.6510 - val_rmse: 14.1909 - val_mse: 201.6510\n",
      "Epoch 16/50\n",
      "1/1 [==============================] - 1s 1s/step - loss: 191.6536 - rmse: 13.8439 - mse: 191.6536 - val_loss: 197.6783 - val_rmse: 14.0498 - val_mse: 197.6783\n",
      "Epoch 17/50\n",
      "1/1 [==============================] - 1s 1s/step - loss: 188.3804 - rmse: 13.7252 - mse: 188.3804 - val_loss: 193.9564 - val_rmse: 13.9157 - val_mse: 193.9564\n",
      "Epoch 18/50\n",
      "1/1 [==============================] - 1s 1s/step - loss: 167.7263 - rmse: 12.9509 - mse: 167.7263 - val_loss: 189.1910 - val_rmse: 13.7461 - val_mse: 189.1910\n",
      "Epoch 19/50\n",
      "1/1 [==============================] - 1s 1s/step - loss: 187.6758 - rmse: 13.6995 - mse: 187.6758 - val_loss: 187.1080 - val_rmse: 13.6734 - val_mse: 187.1080\n",
      "Epoch 20/50\n",
      "1/1 [==============================] - 1s 1s/step - loss: 162.5336 - rmse: 12.7489 - mse: 162.5336 - val_loss: 184.3572 - val_rmse: 13.5613 - val_mse: 184.3572\n",
      "Epoch 21/50\n",
      "1/1 [==============================] - 1s 1s/step - loss: 173.4235 - rmse: 13.1690 - mse: 173.4235 - val_loss: 180.3180 - val_rmse: 13.4195 - val_mse: 180.3180\n",
      "Epoch 22/50\n",
      "1/1 [==============================] - 1s 1s/step - loss: 161.4676 - rmse: 12.7070 - mse: 161.4676 - val_loss: 178.2962 - val_rmse: 13.3389 - val_mse: 178.2962\n",
      "Epoch 23/50\n",
      "1/1 [==============================] - 1s 1s/step - loss: 132.5369 - rmse: 11.5125 - mse: 132.5369 - val_loss: 173.2864 - val_rmse: 13.1492 - val_mse: 173.2864\n",
      "Epoch 24/50\n",
      "1/1 [==============================] - 1s 1s/step - loss: 126.1049 - rmse: 11.2296 - mse: 126.1049 - val_loss: 170.7745 - val_rmse: 13.0566 - val_mse: 170.7745\n",
      "Epoch 25/50\n",
      "1/1 [==============================] - 1s 1s/step - loss: 139.0058 - rmse: 11.7901 - mse: 139.0058 - val_loss: 166.1001 - val_rmse: 12.8642 - val_mse: 166.1001\n",
      "Epoch 26/50\n",
      "1/1 [==============================] - 1s 1s/step - loss: 136.6638 - rmse: 11.6903 - mse: 136.6638 - val_loss: 163.6909 - val_rmse: 12.7895 - val_mse: 163.6909\n",
      "Epoch 27/50\n",
      "1/1 [==============================] - 2s 2s/step - loss: 143.5098 - rmse: 11.9796 - mse: 143.5098 - val_loss: 160.8768 - val_rmse: 12.6721 - val_mse: 160.8768\n",
      "Epoch 28/50\n",
      "1/1 [==============================] - 1s 1s/step - loss: 129.4677 - rmse: 11.3784 - mse: 129.4677 - val_loss: 158.0159 - val_rmse: 12.5561 - val_mse: 158.0159\n",
      "Epoch 29/50\n",
      "1/1 [==============================] - 1s 1s/step - loss: 140.0460 - rmse: 11.8341 - mse: 140.0460 - val_loss: 158.4725 - val_rmse: 12.5706 - val_mse: 158.4725\n",
      "Epoch 30/50\n",
      "1/1 [==============================] - 1s 1s/step - loss: 143.1526 - rmse: 11.9646 - mse: 143.1526 - val_loss: 152.3523 - val_rmse: 12.3285 - val_mse: 152.3523\n",
      "Epoch 31/50\n",
      "1/1 [==============================] - 1s 1s/step - loss: 87.9947 - rmse: 9.3806 - mse: 87.9947 - val_loss: 148.0396 - val_rmse: 12.1511 - val_mse: 148.0396\n",
      "Epoch 32/50\n",
      "1/1 [==============================] - 1s 1s/step - loss: 109.8472 - rmse: 10.4808 - mse: 109.8472 - val_loss: 148.3152 - val_rmse: 12.1399 - val_mse: 148.3152\n",
      "Epoch 33/50\n",
      "1/1 [==============================] - 1s 1s/step - loss: 105.0063 - rmse: 10.2473 - mse: 105.0063 - val_loss: 145.4933 - val_rmse: 12.0472 - val_mse: 145.4933\n",
      "Epoch 34/50\n",
      "1/1 [==============================] - 1s 1s/step - loss: 147.2002 - rmse: 12.1326 - mse: 147.2002 - val_loss: 139.7724 - val_rmse: 11.8125 - val_mse: 139.7724\n",
      "Epoch 35/50\n",
      "1/1 [==============================] - 1s 1s/step - loss: 121.1279 - rmse: 11.0058 - mse: 121.1279 - val_loss: 141.0056 - val_rmse: 11.8629 - val_mse: 141.0056\n",
      "Epoch 36/50\n",
      "1/1 [==============================] - 1s 1s/step - loss: 106.2027 - rmse: 10.3055 - mse: 106.2027 - val_loss: 135.6309 - val_rmse: 11.6338 - val_mse: 135.6309\n",
      "Epoch 37/50\n",
      "1/1 [==============================] - 1s 1s/step - loss: 112.0167 - rmse: 10.5838 - mse: 112.0167 - val_loss: 134.7439 - val_rmse: 11.6000 - val_mse: 134.7439\n",
      "Epoch 38/50\n",
      "1/1 [==============================] - 1s 1s/step - loss: 108.4825 - rmse: 10.4155 - mse: 108.4825 - val_loss: 132.0368 - val_rmse: 11.4813 - val_mse: 132.0368\n",
      "Epoch 39/50\n",
      "1/1 [==============================] - 1s 1s/step - loss: 100.2843 - rmse: 10.0142 - mse: 100.2843 - val_loss: 129.9368 - val_rmse: 11.3866 - val_mse: 129.9368\n",
      "Epoch 40/50\n",
      "1/1 [==============================] - 1s 1s/step - loss: 113.5460 - rmse: 10.6558 - mse: 113.5460 - val_loss: 129.1852 - val_rmse: 11.3497 - val_mse: 129.1852\n",
      "Epoch 41/50\n",
      "1/1 [==============================] - 1s 1s/step - loss: 112.7323 - rmse: 10.6175 - mse: 112.7323 - val_loss: 127.1208 - val_rmse: 11.2559 - val_mse: 127.1208\n",
      "Epoch 42/50\n",
      "1/1 [==============================] - 1s 1s/step - loss: 99.7590 - rmse: 9.9879 - mse: 99.7590 - val_loss: 127.1345 - val_rmse: 11.2642 - val_mse: 127.1345\n",
      "Epoch 43/50\n",
      "1/1 [==============================] - 1s 1s/step - loss: 103.2385 - rmse: 10.1606 - mse: 103.2385 - val_loss: 122.3773 - val_rmse: 11.0533 - val_mse: 122.3773\n",
      "Epoch 44/50\n",
      "1/1 [==============================] - 1s 1s/step - loss: 117.7479 - rmse: 10.8512 - mse: 117.7479 - val_loss: 122.8248 - val_rmse: 11.0748 - val_mse: 122.8248\n",
      "Epoch 45/50\n",
      "1/1 [==============================] - 1s 1s/step - loss: 93.5462 - rmse: 9.6719 - mse: 93.5462 - val_loss: 122.1286 - val_rmse: 11.0405 - val_mse: 122.1286\n",
      "Epoch 46/50\n",
      "1/1 [==============================] - 1s 1s/step - loss: 151.2414 - rmse: 12.2980 - mse: 151.2414 - val_loss: 118.0541 - val_rmse: 10.8422 - val_mse: 118.0541\n",
      "Epoch 47/50\n",
      "1/1 [==============================] - 1s 1s/step - loss: 85.3720 - rmse: 9.2397 - mse: 85.3720 - val_loss: 117.3020 - val_rmse: 10.8163 - val_mse: 117.3020\n",
      "Epoch 48/50\n",
      "1/1 [==============================] - 1s 1s/step - loss: 86.7337 - rmse: 9.3131 - mse: 86.7337 - val_loss: 116.3042 - val_rmse: 10.7736 - val_mse: 116.3042\n",
      "Epoch 49/50\n",
      "1/1 [==============================] - 1s 1s/step - loss: 100.0779 - rmse: 10.0039 - mse: 100.0779 - val_loss: 117.5428 - val_rmse: 10.8266 - val_mse: 117.5428\n",
      "Epoch 50/50\n",
      "1/1 [==============================] - 1s 1s/step - loss: 113.9127 - rmse: 10.6730 - mse: 113.9127 - val_loss: 114.5220 - val_rmse: 10.6821 - val_mse: 114.5220\n",
      "CPU times: user 3min, sys: 2min 12s, total: 5min 13s\n",
      "Wall time: 1min 40s\n"
     ]
    }
   ],
   "source": [
    "%%time\n",
    "steps_per_epoch = NUM_TRAIN_EXAMPLES // (BATCH_SIZE * NUM_EVALS)\n",
    "\n",
    "OUTDIR = \"./taxi_trained\"\n",
    "shutil.rmtree(path=OUTDIR, ignore_errors=True) # start fresh each time\n",
    "\n",
    "history = model.fit(x=trainds,\n",
    "                    steps_per_epoch=steps_per_epoch,\n",
    "                    epochs=NUM_EVALS,\n",
    "                    validation_data=evalds,\n",
    "                    callbacks=[TensorBoard(OUTDIR)])"
   ]
  },
  {
   "cell_type": "markdown",
   "metadata": {},
   "source": [
    "Just as before, we can examine the history to see how the RMSE changes through training on the train set and validation set. "
   ]
  },
  {
   "cell_type": "code",
   "execution_count": 32,
   "metadata": {},
   "outputs": [
    {
     "data": {
      "text/plain": [
       "<AxesSubplot:>"
      ]
     },
     "execution_count": 32,
     "metadata": {},
     "output_type": "execute_result"
    },
    {
     "data": {
      "image/png": "[encoded data removed]",
      "text/plain": [
       "<Figure size 432x288 with 1 Axes>"
      ]
     },
     "metadata": {
      "needs_background": "light"
     },
     "output_type": "display_data"
    }
   ],
   "source": [
    "RMSE_COLS = ['rmse', 'val_rmse']\n",
    "\n",
    "pd.DataFrame(history.history)[RMSE_COLS].plot()"
   ]
  },
  {
   "cell_type": "markdown",
   "metadata": {},
   "source": [
    "Copyright 2019 Google Inc. Licensed under the Apache License, Version 2.0 (the \"License\"); you may not use this file except in compliance with the License. You may obtain a copy of the License at http://www.apache.org/licenses/LICENSE-2.0 Unless required by applicable law or agreed to in writing, software distributed under the License is distributed on an \"AS IS\" BASIS, WITHOUT WARRANTIES OR CONDITIONS OF ANY KIND, either express or implied. See the License for the specific language governing permissions and limitations under the License"
   ]
  }
 ],
 "metadata": {
  "environment": {
   "name": "tf2-gpu.2-5.m74",
   "type": "gcloud",
   "uri": "gcr.io/deeplearning-platform-release/tf2-gpu.2-5:m74"
  },
  "kernelspec": {
   "display_name": "Python 3",
   "language": "python",
   "name": "python3"
  },
  "language_info": {
   "codemirror_mode": {
    "name": "ipython",
    "version": 3
   },
   "file_extension": ".py",
   "mimetype": "text/x-python",
   "name": "python",
   "nbconvert_exporter": "python",
   "pygments_lexer": "ipython3",
   "version": "3.7.10"
  }
 },
 "nbformat": 4,
 "nbformat_minor": 4
}
